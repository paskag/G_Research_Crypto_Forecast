{
 "cells": [
  {
   "cell_type": "code",
   "execution_count": 8,
   "id": "f8019db6",
   "metadata": {},
   "outputs": [],
   "source": [
    "from preprocess import load, preprocess\n",
    "from train import train_crypto, train_test_split\n",
    "from config import config_model\n",
    "from save import save_model\n",
    "from visualize import visualization"
   ]
  },
  {
   "cell_type": "code",
   "execution_count": 9,
   "id": "1a32ba9a",
   "metadata": {},
   "outputs": [],
   "source": [
    "df, asset_details = load(\"train.csv\", \"asset_details.csv\")"
   ]
  },
  {
   "cell_type": "code",
   "execution_count": 10,
   "id": "cb5be41d",
   "metadata": {},
   "outputs": [],
   "source": [
    "df_without_null_scaled = preprocess(df, asset_details)"
   ]
  },
  {
   "cell_type": "code",
   "execution_count": 11,
   "id": "441e961a",
   "metadata": {},
   "outputs": [
    {
     "data": {
      "text/html": [
       "<div>\n",
       "<style scoped>\n",
       "    .dataframe tbody tr th:only-of-type {\n",
       "        vertical-align: middle;\n",
       "    }\n",
       "\n",
       "    .dataframe tbody tr th {\n",
       "        vertical-align: top;\n",
       "    }\n",
       "\n",
       "    .dataframe thead th {\n",
       "        text-align: right;\n",
       "    }\n",
       "</style>\n",
       "<table border=\"1\" class=\"dataframe\">\n",
       "  <thead>\n",
       "    <tr style=\"text-align: right;\">\n",
       "      <th></th>\n",
       "      <th>Name</th>\n",
       "      <th>Open</th>\n",
       "      <th>High</th>\n",
       "      <th>Low</th>\n",
       "      <th>Close</th>\n",
       "      <th>Volume</th>\n",
       "      <th>VWAP</th>\n",
       "      <th>Target</th>\n",
       "    </tr>\n",
       "  </thead>\n",
       "  <tbody>\n",
       "    <tr>\n",
       "      <th>0</th>\n",
       "      <td>Bitcoin Cash</td>\n",
       "      <td>-0.024067</td>\n",
       "      <td>-0.022942</td>\n",
       "      <td>-0.024679</td>\n",
       "      <td>-0.024478</td>\n",
       "      <td>-0.283093</td>\n",
       "      <td>-0.024759</td>\n",
       "      <td>-0.004218</td>\n",
       "    </tr>\n",
       "    <tr>\n",
       "      <th>1</th>\n",
       "      <td>Binance Coin</td>\n",
       "      <td>-0.500484</td>\n",
       "      <td>-0.500412</td>\n",
       "      <td>-0.500508</td>\n",
       "      <td>-0.500482</td>\n",
       "      <td>-0.260371</td>\n",
       "      <td>-0.500483</td>\n",
       "      <td>-0.014399</td>\n",
       "    </tr>\n",
       "    <tr>\n",
       "      <th>2</th>\n",
       "      <td>Bitcoin</td>\n",
       "      <td>2.281239</td>\n",
       "      <td>2.296402</td>\n",
       "      <td>2.266521</td>\n",
       "      <td>2.284183</td>\n",
       "      <td>-0.278361</td>\n",
       "      <td>2.279630</td>\n",
       "      <td>-0.014643</td>\n",
       "    </tr>\n",
       "    <tr>\n",
       "      <th>3</th>\n",
       "      <td>EOS_IO</td>\n",
       "      <td>-0.500659</td>\n",
       "      <td>-0.500586</td>\n",
       "      <td>-0.500685</td>\n",
       "      <td>-0.500658</td>\n",
       "      <td>2.255234</td>\n",
       "      <td>-0.500659</td>\n",
       "      <td>-0.013922</td>\n",
       "    </tr>\n",
       "    <tr>\n",
       "      <th>4</th>\n",
       "      <td>Ethereum Classic</td>\n",
       "      <td>-0.496986</td>\n",
       "      <td>-0.496939</td>\n",
       "      <td>-0.496994</td>\n",
       "      <td>-0.496992</td>\n",
       "      <td>-0.243965</td>\n",
       "      <td>-0.496990</td>\n",
       "      <td>-0.008264</td>\n",
       "    </tr>\n",
       "    <tr>\n",
       "      <th>...</th>\n",
       "      <td>...</td>\n",
       "      <td>...</td>\n",
       "      <td>...</td>\n",
       "      <td>...</td>\n",
       "      <td>...</td>\n",
       "      <td>...</td>\n",
       "      <td>...</td>\n",
       "      <td>...</td>\n",
       "    </tr>\n",
       "    <tr>\n",
       "      <th>97599</th>\n",
       "      <td>Binance Coin</td>\n",
       "      <td>-0.498688</td>\n",
       "      <td>-0.498613</td>\n",
       "      <td>-0.498699</td>\n",
       "      <td>-0.498672</td>\n",
       "      <td>-0.267685</td>\n",
       "      <td>-0.498678</td>\n",
       "      <td>-0.002602</td>\n",
       "    </tr>\n",
       "    <tr>\n",
       "      <th>97600</th>\n",
       "      <td>Bitcoin</td>\n",
       "      <td>2.483343</td>\n",
       "      <td>2.472935</td>\n",
       "      <td>2.485137</td>\n",
       "      <td>2.481164</td>\n",
       "      <td>-0.283053</td>\n",
       "      <td>2.481570</td>\n",
       "      <td>-0.002134</td>\n",
       "    </tr>\n",
       "    <tr>\n",
       "      <th>97601</th>\n",
       "      <td>EOS_IO</td>\n",
       "      <td>-0.500328</td>\n",
       "      <td>-0.500257</td>\n",
       "      <td>-0.500350</td>\n",
       "      <td>-0.500326</td>\n",
       "      <td>-0.265686</td>\n",
       "      <td>-0.500327</td>\n",
       "      <td>-0.005362</td>\n",
       "    </tr>\n",
       "    <tr>\n",
       "      <th>97602</th>\n",
       "      <td>Ethereum Classic</td>\n",
       "      <td>-0.495307</td>\n",
       "      <td>-0.495272</td>\n",
       "      <td>-0.495307</td>\n",
       "      <td>-0.495318</td>\n",
       "      <td>-0.175423</td>\n",
       "      <td>-0.495306</td>\n",
       "      <td>0.001431</td>\n",
       "    </tr>\n",
       "    <tr>\n",
       "      <th>97603</th>\n",
       "      <td>Ethereum</td>\n",
       "      <td>-0.259406</td>\n",
       "      <td>-0.260683</td>\n",
       "      <td>-0.258670</td>\n",
       "      <td>-0.259389</td>\n",
       "      <td>-0.209794</td>\n",
       "      <td>-0.259409</td>\n",
       "      <td>0.002114</td>\n",
       "    </tr>\n",
       "  </tbody>\n",
       "</table>\n",
       "<p>97604 rows × 8 columns</p>\n",
       "</div>"
      ],
      "text/plain": [
       "                   Name      Open      High       Low     Close    Volume  \\\n",
       "0          Bitcoin Cash -0.024067 -0.022942 -0.024679 -0.024478 -0.283093   \n",
       "1          Binance Coin -0.500484 -0.500412 -0.500508 -0.500482 -0.260371   \n",
       "2               Bitcoin  2.281239  2.296402  2.266521  2.284183 -0.278361   \n",
       "3                EOS_IO -0.500659 -0.500586 -0.500685 -0.500658  2.255234   \n",
       "4      Ethereum Classic -0.496986 -0.496939 -0.496994 -0.496992 -0.243965   \n",
       "...                 ...       ...       ...       ...       ...       ...   \n",
       "97599      Binance Coin -0.498688 -0.498613 -0.498699 -0.498672 -0.267685   \n",
       "97600           Bitcoin  2.483343  2.472935  2.485137  2.481164 -0.283053   \n",
       "97601            EOS_IO -0.500328 -0.500257 -0.500350 -0.500326 -0.265686   \n",
       "97602  Ethereum Classic -0.495307 -0.495272 -0.495307 -0.495318 -0.175423   \n",
       "97603          Ethereum -0.259406 -0.260683 -0.258670 -0.259389 -0.209794   \n",
       "\n",
       "           VWAP    Target  \n",
       "0     -0.024759 -0.004218  \n",
       "1     -0.500483 -0.014399  \n",
       "2      2.279630 -0.014643  \n",
       "3     -0.500659 -0.013922  \n",
       "4     -0.496990 -0.008264  \n",
       "...         ...       ...  \n",
       "97599 -0.498678 -0.002602  \n",
       "97600  2.481570 -0.002134  \n",
       "97601 -0.500327 -0.005362  \n",
       "97602 -0.495306  0.001431  \n",
       "97603 -0.259409  0.002114  \n",
       "\n",
       "[97604 rows x 8 columns]"
      ]
     },
     "execution_count": 11,
     "metadata": {},
     "output_type": "execute_result"
    }
   ],
   "source": [
    "df_without_null_scaled"
   ]
  },
  {
   "cell_type": "code",
   "execution_count": 12,
   "id": "fbe55a7a",
   "metadata": {},
   "outputs": [],
   "source": [
    "names = set(df[\"Name\"])"
   ]
  },
  {
   "cell_type": "code",
   "execution_count": 13,
   "id": "0ee14cf4",
   "metadata": {},
   "outputs": [
    {
     "data": {
      "text/plain": [
       "{'Binance Coin',\n",
       " 'Bitcoin',\n",
       " 'Bitcoin Cash',\n",
       " 'EOS_IO',\n",
       " 'Ethereum',\n",
       " 'Ethereum Classic',\n",
       " 'Litecoin',\n",
       " 'Monero'}"
      ]
     },
     "execution_count": 13,
     "metadata": {},
     "output_type": "execute_result"
    }
   ],
   "source": [
    "names"
   ]
  },
  {
   "cell_type": "code",
   "execution_count": 14,
   "id": "468b4074",
   "metadata": {},
   "outputs": [
    {
     "name": "stdout",
     "output_type": "stream",
     "text": [
      "CPU times: user 4min 43s, sys: 79.9 ms, total: 4min 43s\n",
      "Wall time: 1min 12s\n"
     ]
    }
   ],
   "source": [
    "%%time\n",
    "for name in names:\n",
    "    X_train, X_valid, y_train, y_valid = train_test_split(name, df_without_null_scaled)\n",
    "    model = train_crypto(name, X_train, y_train)\n",
    "    save_model(name, model)"
   ]
  },
  {
   "cell_type": "code",
   "execution_count": null,
   "id": "ba7f434b",
   "metadata": {},
   "outputs": [],
   "source": []
  }
 ],
 "metadata": {
  "kernelspec": {
   "display_name": "crypto1",
   "language": "python",
   "name": "crypto1"
  },
  "language_info": {
   "codemirror_mode": {
    "name": "ipython",
    "version": 3
   },
   "file_extension": ".py",
   "mimetype": "text/x-python",
   "name": "python",
   "nbconvert_exporter": "python",
   "pygments_lexer": "ipython3",
   "version": "3.9.7"
  }
 },
 "nbformat": 4,
 "nbformat_minor": 5
}
