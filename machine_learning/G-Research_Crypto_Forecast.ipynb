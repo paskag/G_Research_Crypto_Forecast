{
 "cells": [
  {
   "cell_type": "markdown",
   "id": "8dc85690",
   "metadata": {},
   "source": [
    "# G-Research Crypto Forecast"
   ]
  },
  {
   "cell_type": "markdown",
   "id": "ee2b0bd7",
   "metadata": {},
   "source": [
    "## Part 0: Introduction\n",
    "\n",
    "* ### Описание:\n",
    "\n",
    "#### Ежедневно на рынке криптовалют проводятся операции на сумму более 40 миллиардов долларов. Криптовалюты являются одними из самых популярных активов как для спекуляций, так и для инвестиций. При этом рынок криптовалят является достаточно волатильным. Датасет содержит информацию о прошлых сделках по криптовалютам. Например, таких Bitcoin и Ethereum. \n",
    "#### Задача - предсказать будущую прибыль криптовалют.\n",
    "\n",
    "* ### Датасеты:\n",
    "\n",
    "1. train.csv - обучающий датасет\n",
    "\n",
    "    * timestamp - отметка времени в минутах в формате Unix. Отметки времени в этом наборе данных кратны 60, что указывает на поминутные данные\n",
    "    * Asset_ID - ID криптовалюты\n",
    "    * Count - общее количество сделок, состоявшихся в данную минуту\n",
    "    * Open - стомиость криптовалюты в начале минуты, долларах США\n",
    "    * High - самая высокая стоимость криптовалюты за минуту, доллар США\n",
    "    * Low - самая низкая стоимость криптовалюты цена за минуту, доллар США\n",
    "    * Volume - количество единиц криптовалюты, проданных или купленных в течение минуты\n",
    "    * VWAP - средневзвешенная стоимость криптовалюты за минуту, доллар США\n",
    "    * Target - остаточная логарифмическая доходность актива на горизонте 15 минут\n",
    "\n",
    "\n",
    "2. asset_details.csv - датасет с дополнительной информацией\n",
    "\n",
    "    * Asset_ID - ID криптовалюты\n",
    "    * Weight - вес каждого актива, используемый для взвешивания его относительной важности в метрике оценки\n",
    "    * Asset_Name - название криптовалюты\n",
    "   \n",
    "## [Part 1: Import, Load Data](#Part-1:-Import,-Load-Data)\n",
    "* ### Импорт библиотек, чтение '.csv' файлов\n",
    "\n",
    "## [Part 2: Exploratory Data Analysis](#Part-2:-Exploratory-Data-Analysis)\n",
    "* ### Head, Info\n",
    "* ### Обработка датасета asset_details\n",
    "* ### Добавление названия криптовалюты в обучающий датасет\n",
    "* ### Анализ недостающих элементов в Target\n",
    "* ### Удаление строк с недостающими элементами в Target\n",
    "* ### Визуализация данных\n",
    "\n",
    "## [Part 3: Data Wrangling and Transformation](#Part-3:-Data-Wrangling-and-Transformation)\n",
    "* ### StandardScaler\n",
    "* ### Создание датасетов для машинного обучения\n",
    "* ### 'Train\\Valid' split\n",
    "\n",
    "\n",
    "## [Part 4: Machine Learning](#Part-4:-Machine-Learning)\n",
    "* ### Linear Regression\n"
   ]
  },
  {
   "cell_type": "markdown",
   "id": "4aa5bd05",
   "metadata": {},
   "source": [
    "## Part 1: Import, Load Data"
   ]
  },
  {
   "cell_type": "markdown",
   "id": "75f82d0c",
   "metadata": {},
   "source": [
    "* ### Import "
   ]
  },
  {
   "cell_type": "code",
   "execution_count": 41,
   "id": "c670bcfa",
   "metadata": {},
   "outputs": [],
   "source": [
    "import pandas as pd\n",
    "import numpy as np\n",
    "import seaborn as sns\n",
    "import matplotlib.pyplot as plt\n",
    "from sklearn.preprocessing import StandardScaler\n",
    "from sklearn.linear_model import LinearRegression\n",
    "from sklearn.metrics import mean_squared_error"
   ]
  },
  {
   "cell_type": "markdown",
   "id": "e968799a",
   "metadata": {},
   "source": [
    "* ### Load Data "
   ]
  },
  {
   "cell_type": "code",
   "execution_count": 2,
   "id": "eb0e02b2",
   "metadata": {},
   "outputs": [],
   "source": [
    "#загрузим первые 100 тысяч строк\n",
    "df = pd.read_csv(\"train.csv\", nrows=100000)"
   ]
  },
  {
   "cell_type": "code",
   "execution_count": 3,
   "id": "f97486e3",
   "metadata": {},
   "outputs": [],
   "source": [
    "asset_details = pd.read_csv(\"asset_details.csv\", nrows=100000) "
   ]
  },
  {
   "cell_type": "markdown",
   "id": "eec54847",
   "metadata": {},
   "source": [
    "## Part 2: Exploratory-Data-Analysis"
   ]
  },
  {
   "cell_type": "markdown",
   "id": "3684b6a0",
   "metadata": {},
   "source": [
    "* ### Head"
   ]
  },
  {
   "cell_type": "code",
   "execution_count": 4,
   "id": "5f680cd4",
   "metadata": {},
   "outputs": [
    {
     "data": {
      "text/html": [
       "<div>\n",
       "<style scoped>\n",
       "    .dataframe tbody tr th:only-of-type {\n",
       "        vertical-align: middle;\n",
       "    }\n",
       "\n",
       "    .dataframe tbody tr th {\n",
       "        vertical-align: top;\n",
       "    }\n",
       "\n",
       "    .dataframe thead th {\n",
       "        text-align: right;\n",
       "    }\n",
       "</style>\n",
       "<table border=\"1\" class=\"dataframe\">\n",
       "  <thead>\n",
       "    <tr style=\"text-align: right;\">\n",
       "      <th></th>\n",
       "      <th>timestamp</th>\n",
       "      <th>Asset_ID</th>\n",
       "      <th>Count</th>\n",
       "      <th>Open</th>\n",
       "      <th>High</th>\n",
       "      <th>Low</th>\n",
       "      <th>Close</th>\n",
       "      <th>Volume</th>\n",
       "      <th>VWAP</th>\n",
       "      <th>Target</th>\n",
       "    </tr>\n",
       "  </thead>\n",
       "  <tbody>\n",
       "    <tr>\n",
       "      <th>0</th>\n",
       "      <td>1514764860</td>\n",
       "      <td>2</td>\n",
       "      <td>40.0</td>\n",
       "      <td>2376.5800</td>\n",
       "      <td>2399.5000</td>\n",
       "      <td>2357.1400</td>\n",
       "      <td>2374.5900</td>\n",
       "      <td>19.233005</td>\n",
       "      <td>2373.116392</td>\n",
       "      <td>-0.004218</td>\n",
       "    </tr>\n",
       "    <tr>\n",
       "      <th>1</th>\n",
       "      <td>1514764860</td>\n",
       "      <td>0</td>\n",
       "      <td>5.0</td>\n",
       "      <td>8.5300</td>\n",
       "      <td>8.5300</td>\n",
       "      <td>8.5300</td>\n",
       "      <td>8.5300</td>\n",
       "      <td>78.380000</td>\n",
       "      <td>8.530000</td>\n",
       "      <td>-0.014399</td>\n",
       "    </tr>\n",
       "    <tr>\n",
       "      <th>2</th>\n",
       "      <td>1514764860</td>\n",
       "      <td>1</td>\n",
       "      <td>229.0</td>\n",
       "      <td>13835.1940</td>\n",
       "      <td>14013.8000</td>\n",
       "      <td>13666.1100</td>\n",
       "      <td>13850.1760</td>\n",
       "      <td>31.550062</td>\n",
       "      <td>13827.062093</td>\n",
       "      <td>-0.014643</td>\n",
       "    </tr>\n",
       "    <tr>\n",
       "      <th>3</th>\n",
       "      <td>1514764860</td>\n",
       "      <td>5</td>\n",
       "      <td>32.0</td>\n",
       "      <td>7.6596</td>\n",
       "      <td>7.6596</td>\n",
       "      <td>7.6567</td>\n",
       "      <td>7.6576</td>\n",
       "      <td>6626.713370</td>\n",
       "      <td>7.657713</td>\n",
       "      <td>-0.013922</td>\n",
       "    </tr>\n",
       "    <tr>\n",
       "      <th>4</th>\n",
       "      <td>1514764860</td>\n",
       "      <td>7</td>\n",
       "      <td>5.0</td>\n",
       "      <td>25.9200</td>\n",
       "      <td>25.9200</td>\n",
       "      <td>25.8740</td>\n",
       "      <td>25.8770</td>\n",
       "      <td>121.087310</td>\n",
       "      <td>25.891363</td>\n",
       "      <td>-0.008264</td>\n",
       "    </tr>\n",
       "  </tbody>\n",
       "</table>\n",
       "</div>"
      ],
      "text/plain": [
       "    timestamp  Asset_ID  Count        Open        High         Low  \\\n",
       "0  1514764860         2   40.0   2376.5800   2399.5000   2357.1400   \n",
       "1  1514764860         0    5.0      8.5300      8.5300      8.5300   \n",
       "2  1514764860         1  229.0  13835.1940  14013.8000  13666.1100   \n",
       "3  1514764860         5   32.0      7.6596      7.6596      7.6567   \n",
       "4  1514764860         7    5.0     25.9200     25.9200     25.8740   \n",
       "\n",
       "        Close       Volume          VWAP    Target  \n",
       "0   2374.5900    19.233005   2373.116392 -0.004218  \n",
       "1      8.5300    78.380000      8.530000 -0.014399  \n",
       "2  13850.1760    31.550062  13827.062093 -0.014643  \n",
       "3      7.6576  6626.713370      7.657713 -0.013922  \n",
       "4     25.8770   121.087310     25.891363 -0.008264  "
      ]
     },
     "execution_count": 4,
     "metadata": {},
     "output_type": "execute_result"
    }
   ],
   "source": [
    "df.head()"
   ]
  },
  {
   "cell_type": "code",
   "execution_count": 5,
   "id": "81058b83",
   "metadata": {},
   "outputs": [
    {
     "data": {
      "text/html": [
       "<div>\n",
       "<style scoped>\n",
       "    .dataframe tbody tr th:only-of-type {\n",
       "        vertical-align: middle;\n",
       "    }\n",
       "\n",
       "    .dataframe tbody tr th {\n",
       "        vertical-align: top;\n",
       "    }\n",
       "\n",
       "    .dataframe thead th {\n",
       "        text-align: right;\n",
       "    }\n",
       "</style>\n",
       "<table border=\"1\" class=\"dataframe\">\n",
       "  <thead>\n",
       "    <tr style=\"text-align: right;\">\n",
       "      <th></th>\n",
       "      <th>Asset_ID</th>\n",
       "      <th>Weight</th>\n",
       "      <th>Asset_Name</th>\n",
       "    </tr>\n",
       "  </thead>\n",
       "  <tbody>\n",
       "    <tr>\n",
       "      <th>0</th>\n",
       "      <td>2</td>\n",
       "      <td>2.397895</td>\n",
       "      <td>Bitcoin Cash</td>\n",
       "    </tr>\n",
       "    <tr>\n",
       "      <th>1</th>\n",
       "      <td>0</td>\n",
       "      <td>4.304065</td>\n",
       "      <td>Binance Coin</td>\n",
       "    </tr>\n",
       "    <tr>\n",
       "      <th>2</th>\n",
       "      <td>1</td>\n",
       "      <td>6.779922</td>\n",
       "      <td>Bitcoin</td>\n",
       "    </tr>\n",
       "    <tr>\n",
       "      <th>3</th>\n",
       "      <td>5</td>\n",
       "      <td>1.386294</td>\n",
       "      <td>EOS.IO</td>\n",
       "    </tr>\n",
       "    <tr>\n",
       "      <th>4</th>\n",
       "      <td>7</td>\n",
       "      <td>2.079442</td>\n",
       "      <td>Ethereum Classic</td>\n",
       "    </tr>\n",
       "    <tr>\n",
       "      <th>5</th>\n",
       "      <td>6</td>\n",
       "      <td>5.894403</td>\n",
       "      <td>Ethereum</td>\n",
       "    </tr>\n",
       "    <tr>\n",
       "      <th>6</th>\n",
       "      <td>9</td>\n",
       "      <td>2.397895</td>\n",
       "      <td>Litecoin</td>\n",
       "    </tr>\n",
       "    <tr>\n",
       "      <th>7</th>\n",
       "      <td>11</td>\n",
       "      <td>1.609438</td>\n",
       "      <td>Monero</td>\n",
       "    </tr>\n",
       "    <tr>\n",
       "      <th>8</th>\n",
       "      <td>13</td>\n",
       "      <td>1.791759</td>\n",
       "      <td>TRON</td>\n",
       "    </tr>\n",
       "    <tr>\n",
       "      <th>9</th>\n",
       "      <td>12</td>\n",
       "      <td>2.079442</td>\n",
       "      <td>Stellar</td>\n",
       "    </tr>\n",
       "    <tr>\n",
       "      <th>10</th>\n",
       "      <td>3</td>\n",
       "      <td>4.406719</td>\n",
       "      <td>Cardano</td>\n",
       "    </tr>\n",
       "    <tr>\n",
       "      <th>11</th>\n",
       "      <td>8</td>\n",
       "      <td>1.098612</td>\n",
       "      <td>IOTA</td>\n",
       "    </tr>\n",
       "    <tr>\n",
       "      <th>12</th>\n",
       "      <td>10</td>\n",
       "      <td>1.098612</td>\n",
       "      <td>Maker</td>\n",
       "    </tr>\n",
       "    <tr>\n",
       "      <th>13</th>\n",
       "      <td>4</td>\n",
       "      <td>3.555348</td>\n",
       "      <td>Dogecoin</td>\n",
       "    </tr>\n",
       "  </tbody>\n",
       "</table>\n",
       "</div>"
      ],
      "text/plain": [
       "    Asset_ID    Weight        Asset_Name\n",
       "0          2  2.397895      Bitcoin Cash\n",
       "1          0  4.304065      Binance Coin\n",
       "2          1  6.779922           Bitcoin\n",
       "3          5  1.386294            EOS.IO\n",
       "4          7  2.079442  Ethereum Classic\n",
       "5          6  5.894403          Ethereum\n",
       "6          9  2.397895          Litecoin\n",
       "7         11  1.609438            Monero\n",
       "8         13  1.791759              TRON\n",
       "9         12  2.079442           Stellar\n",
       "10         3  4.406719           Cardano\n",
       "11         8  1.098612              IOTA\n",
       "12        10  1.098612             Maker\n",
       "13         4  3.555348          Dogecoin"
      ]
     },
     "execution_count": 5,
     "metadata": {},
     "output_type": "execute_result"
    }
   ],
   "source": [
    "asset_details"
   ]
  },
  {
   "cell_type": "markdown",
   "id": "6e027269",
   "metadata": {},
   "source": [
    "* ### Info "
   ]
  },
  {
   "cell_type": "code",
   "execution_count": 6,
   "id": "15e32625",
   "metadata": {},
   "outputs": [
    {
     "name": "stdout",
     "output_type": "stream",
     "text": [
      "<class 'pandas.core.frame.DataFrame'>\n",
      "RangeIndex: 100000 entries, 0 to 99999\n",
      "Data columns (total 10 columns):\n",
      " #   Column     Non-Null Count   Dtype  \n",
      "---  ------     --------------   -----  \n",
      " 0   timestamp  100000 non-null  int64  \n",
      " 1   Asset_ID   100000 non-null  int64  \n",
      " 2   Count      100000 non-null  float64\n",
      " 3   Open       100000 non-null  float64\n",
      " 4   High       100000 non-null  float64\n",
      " 5   Low        100000 non-null  float64\n",
      " 6   Close      100000 non-null  float64\n",
      " 7   Volume     100000 non-null  float64\n",
      " 8   VWAP       100000 non-null  float64\n",
      " 9   Target     97604 non-null   float64\n",
      "dtypes: float64(8), int64(2)\n",
      "memory usage: 7.6 MB\n"
     ]
    }
   ],
   "source": [
    "df.info()"
   ]
  },
  {
   "cell_type": "markdown",
   "id": "ee0da10d",
   "metadata": {},
   "source": [
    "Есть пропущенные значения в колонке Target. Их нужно будет заполнить"
   ]
  },
  {
   "cell_type": "code",
   "execution_count": 7,
   "id": "e789237b",
   "metadata": {},
   "outputs": [
    {
     "data": {
      "text/plain": [
       "count    97604.000000\n",
       "mean         0.000271\n",
       "std          0.010470\n",
       "min         -0.099856\n",
       "25%         -0.004165\n",
       "50%          0.000000\n",
       "75%          0.004304\n",
       "max          0.129324\n",
       "Name: Target, dtype: float64"
      ]
     },
     "execution_count": 7,
     "metadata": {},
     "output_type": "execute_result"
    }
   ],
   "source": [
    "df[\"Target\"].describe()"
   ]
  },
  {
   "cell_type": "code",
   "execution_count": 8,
   "id": "13991d35",
   "metadata": {
    "scrolled": true
   },
   "outputs": [
    {
     "data": {
      "text/plain": [
       "<AxesSubplot:xlabel='Target', ylabel='Count'>"
      ]
     },
     "execution_count": 8,
     "metadata": {},
     "output_type": "execute_result"
    },
    {
     "data": {
      "image/png": "[encoded data removed]",
      "text/plain": [
       "<Figure size 432x288 with 1 Axes>"
      ]
     },
     "metadata": {
      "needs_background": "light"
     },
     "output_type": "display_data"
    }
   ],
   "source": [
    "sns.histplot(df['Target'], color='g', kde=True)"
   ]
  },
  {
   "cell_type": "markdown",
   "id": "76083bb2",
   "metadata": {},
   "source": [
    "Распределение значений Target близко к нормальному"
   ]
  },
  {
   "cell_type": "markdown",
   "id": "803de45e",
   "metadata": {},
   "source": [
    "* ### Обработка датасета asset_details"
   ]
  },
  {
   "cell_type": "markdown",
   "id": "a6ee6fe6",
   "metadata": {},
   "source": [
    "Зададим ID криптовалюты как индекс данного датасета"
   ]
  },
  {
   "cell_type": "code",
   "execution_count": 9,
   "id": "808a85b0",
   "metadata": {},
   "outputs": [],
   "source": [
    "asset_details.set_index(\"Asset_ID\", inplace=True)"
   ]
  },
  {
   "cell_type": "code",
   "execution_count": 10,
   "id": "19fa67d0",
   "metadata": {},
   "outputs": [
    {
     "data": {
      "text/html": [
       "<div>\n",
       "<style scoped>\n",
       "    .dataframe tbody tr th:only-of-type {\n",
       "        vertical-align: middle;\n",
       "    }\n",
       "\n",
       "    .dataframe tbody tr th {\n",
       "        vertical-align: top;\n",
       "    }\n",
       "\n",
       "    .dataframe thead th {\n",
       "        text-align: right;\n",
       "    }\n",
       "</style>\n",
       "<table border=\"1\" class=\"dataframe\">\n",
       "  <thead>\n",
       "    <tr style=\"text-align: right;\">\n",
       "      <th></th>\n",
       "      <th>Weight</th>\n",
       "      <th>Asset_Name</th>\n",
       "    </tr>\n",
       "    <tr>\n",
       "      <th>Asset_ID</th>\n",
       "      <th></th>\n",
       "      <th></th>\n",
       "    </tr>\n",
       "  </thead>\n",
       "  <tbody>\n",
       "    <tr>\n",
       "      <th>2</th>\n",
       "      <td>2.397895</td>\n",
       "      <td>Bitcoin Cash</td>\n",
       "    </tr>\n",
       "    <tr>\n",
       "      <th>0</th>\n",
       "      <td>4.304065</td>\n",
       "      <td>Binance Coin</td>\n",
       "    </tr>\n",
       "    <tr>\n",
       "      <th>1</th>\n",
       "      <td>6.779922</td>\n",
       "      <td>Bitcoin</td>\n",
       "    </tr>\n",
       "    <tr>\n",
       "      <th>5</th>\n",
       "      <td>1.386294</td>\n",
       "      <td>EOS.IO</td>\n",
       "    </tr>\n",
       "    <tr>\n",
       "      <th>7</th>\n",
       "      <td>2.079442</td>\n",
       "      <td>Ethereum Classic</td>\n",
       "    </tr>\n",
       "    <tr>\n",
       "      <th>6</th>\n",
       "      <td>5.894403</td>\n",
       "      <td>Ethereum</td>\n",
       "    </tr>\n",
       "    <tr>\n",
       "      <th>9</th>\n",
       "      <td>2.397895</td>\n",
       "      <td>Litecoin</td>\n",
       "    </tr>\n",
       "    <tr>\n",
       "      <th>11</th>\n",
       "      <td>1.609438</td>\n",
       "      <td>Monero</td>\n",
       "    </tr>\n",
       "    <tr>\n",
       "      <th>13</th>\n",
       "      <td>1.791759</td>\n",
       "      <td>TRON</td>\n",
       "    </tr>\n",
       "    <tr>\n",
       "      <th>12</th>\n",
       "      <td>2.079442</td>\n",
       "      <td>Stellar</td>\n",
       "    </tr>\n",
       "    <tr>\n",
       "      <th>3</th>\n",
       "      <td>4.406719</td>\n",
       "      <td>Cardano</td>\n",
       "    </tr>\n",
       "    <tr>\n",
       "      <th>8</th>\n",
       "      <td>1.098612</td>\n",
       "      <td>IOTA</td>\n",
       "    </tr>\n",
       "    <tr>\n",
       "      <th>10</th>\n",
       "      <td>1.098612</td>\n",
       "      <td>Maker</td>\n",
       "    </tr>\n",
       "    <tr>\n",
       "      <th>4</th>\n",
       "      <td>3.555348</td>\n",
       "      <td>Dogecoin</td>\n",
       "    </tr>\n",
       "  </tbody>\n",
       "</table>\n",
       "</div>"
      ],
      "text/plain": [
       "            Weight        Asset_Name\n",
       "Asset_ID                            \n",
       "2         2.397895      Bitcoin Cash\n",
       "0         4.304065      Binance Coin\n",
       "1         6.779922           Bitcoin\n",
       "5         1.386294            EOS.IO\n",
       "7         2.079442  Ethereum Classic\n",
       "6         5.894403          Ethereum\n",
       "9         2.397895          Litecoin\n",
       "11        1.609438            Monero\n",
       "13        1.791759              TRON\n",
       "12        2.079442           Stellar\n",
       "3         4.406719           Cardano\n",
       "8         1.098612              IOTA\n",
       "10        1.098612             Maker\n",
       "4         3.555348          Dogecoin"
      ]
     },
     "execution_count": 10,
     "metadata": {},
     "output_type": "execute_result"
    }
   ],
   "source": [
    "asset_details"
   ]
  },
  {
   "cell_type": "markdown",
   "id": "16c377f8",
   "metadata": {},
   "source": [
    "* ### Добавление названия криптовалюты в обучающий датасет"
   ]
  },
  {
   "cell_type": "code",
   "execution_count": 11,
   "id": "9e0b574b",
   "metadata": {},
   "outputs": [],
   "source": [
    "df[\"Name\"] = df[\"Asset_ID\"].apply(lambda x: asset_details.loc[x][-1])"
   ]
  },
  {
   "cell_type": "code",
   "execution_count": 12,
   "id": "41716bc4",
   "metadata": {},
   "outputs": [],
   "source": [
    "df = df.set_index(\"Name\").reset_index()"
   ]
  },
  {
   "cell_type": "code",
   "execution_count": 13,
   "id": "6accf3e5",
   "metadata": {},
   "outputs": [
    {
     "data": {
      "text/html": [
       "<div>\n",
       "<style scoped>\n",
       "    .dataframe tbody tr th:only-of-type {\n",
       "        vertical-align: middle;\n",
       "    }\n",
       "\n",
       "    .dataframe tbody tr th {\n",
       "        vertical-align: top;\n",
       "    }\n",
       "\n",
       "    .dataframe thead th {\n",
       "        text-align: right;\n",
       "    }\n",
       "</style>\n",
       "<table border=\"1\" class=\"dataframe\">\n",
       "  <thead>\n",
       "    <tr style=\"text-align: right;\">\n",
       "      <th></th>\n",
       "      <th>Name</th>\n",
       "      <th>timestamp</th>\n",
       "      <th>Asset_ID</th>\n",
       "      <th>Count</th>\n",
       "      <th>Open</th>\n",
       "      <th>High</th>\n",
       "      <th>Low</th>\n",
       "      <th>Close</th>\n",
       "      <th>Volume</th>\n",
       "      <th>VWAP</th>\n",
       "      <th>Target</th>\n",
       "    </tr>\n",
       "  </thead>\n",
       "  <tbody>\n",
       "    <tr>\n",
       "      <th>0</th>\n",
       "      <td>Bitcoin Cash</td>\n",
       "      <td>1514764860</td>\n",
       "      <td>2</td>\n",
       "      <td>40.0</td>\n",
       "      <td>2376.5800</td>\n",
       "      <td>2399.5000</td>\n",
       "      <td>2357.1400</td>\n",
       "      <td>2374.5900</td>\n",
       "      <td>19.233005</td>\n",
       "      <td>2373.116392</td>\n",
       "      <td>-0.004218</td>\n",
       "    </tr>\n",
       "    <tr>\n",
       "      <th>1</th>\n",
       "      <td>Binance Coin</td>\n",
       "      <td>1514764860</td>\n",
       "      <td>0</td>\n",
       "      <td>5.0</td>\n",
       "      <td>8.5300</td>\n",
       "      <td>8.5300</td>\n",
       "      <td>8.5300</td>\n",
       "      <td>8.5300</td>\n",
       "      <td>78.380000</td>\n",
       "      <td>8.530000</td>\n",
       "      <td>-0.014399</td>\n",
       "    </tr>\n",
       "    <tr>\n",
       "      <th>2</th>\n",
       "      <td>Bitcoin</td>\n",
       "      <td>1514764860</td>\n",
       "      <td>1</td>\n",
       "      <td>229.0</td>\n",
       "      <td>13835.1940</td>\n",
       "      <td>14013.8000</td>\n",
       "      <td>13666.1100</td>\n",
       "      <td>13850.1760</td>\n",
       "      <td>31.550062</td>\n",
       "      <td>13827.062093</td>\n",
       "      <td>-0.014643</td>\n",
       "    </tr>\n",
       "    <tr>\n",
       "      <th>3</th>\n",
       "      <td>EOS.IO</td>\n",
       "      <td>1514764860</td>\n",
       "      <td>5</td>\n",
       "      <td>32.0</td>\n",
       "      <td>7.6596</td>\n",
       "      <td>7.6596</td>\n",
       "      <td>7.6567</td>\n",
       "      <td>7.6576</td>\n",
       "      <td>6626.713370</td>\n",
       "      <td>7.657713</td>\n",
       "      <td>-0.013922</td>\n",
       "    </tr>\n",
       "    <tr>\n",
       "      <th>4</th>\n",
       "      <td>Ethereum Classic</td>\n",
       "      <td>1514764860</td>\n",
       "      <td>7</td>\n",
       "      <td>5.0</td>\n",
       "      <td>25.9200</td>\n",
       "      <td>25.9200</td>\n",
       "      <td>25.8740</td>\n",
       "      <td>25.8770</td>\n",
       "      <td>121.087310</td>\n",
       "      <td>25.891363</td>\n",
       "      <td>-0.008264</td>\n",
       "    </tr>\n",
       "  </tbody>\n",
       "</table>\n",
       "</div>"
      ],
      "text/plain": [
       "               Name   timestamp  Asset_ID  Count        Open        High  \\\n",
       "0      Bitcoin Cash  1514764860         2   40.0   2376.5800   2399.5000   \n",
       "1      Binance Coin  1514764860         0    5.0      8.5300      8.5300   \n",
       "2           Bitcoin  1514764860         1  229.0  13835.1940  14013.8000   \n",
       "3            EOS.IO  1514764860         5   32.0      7.6596      7.6596   \n",
       "4  Ethereum Classic  1514764860         7    5.0     25.9200     25.9200   \n",
       "\n",
       "          Low       Close       Volume          VWAP    Target  \n",
       "0   2357.1400   2374.5900    19.233005   2373.116392 -0.004218  \n",
       "1      8.5300      8.5300    78.380000      8.530000 -0.014399  \n",
       "2  13666.1100  13850.1760    31.550062  13827.062093 -0.014643  \n",
       "3      7.6567      7.6576  6626.713370      7.657713 -0.013922  \n",
       "4     25.8740     25.8770   121.087310     25.891363 -0.008264  "
      ]
     },
     "execution_count": 13,
     "metadata": {},
     "output_type": "execute_result"
    }
   ],
   "source": [
    "df.head()"
   ]
  },
  {
   "cell_type": "markdown",
   "id": "0cdb496c",
   "metadata": {},
   "source": [
    "* ### Анализ недостающих элементов в Target"
   ]
  },
  {
   "cell_type": "code",
   "execution_count": 14,
   "id": "84b314b3",
   "metadata": {},
   "outputs": [
    {
     "data": {
      "text/plain": [
       "Monero              1221\n",
       "EOS.IO               796\n",
       "Ethereum Classic     215\n",
       "Binance Coin         164\n",
       "Name: Name, dtype: int64"
      ]
     },
     "execution_count": 14,
     "metadata": {},
     "output_type": "execute_result"
    }
   ],
   "source": [
    "#Посмотрим, какие криптовалюты и сколько не имеют Target\n",
    "df[df[\"Target\"].isnull()][\"Name\"].value_counts()"
   ]
  },
  {
   "cell_type": "code",
   "execution_count": 15,
   "id": "82a96834",
   "metadata": {},
   "outputs": [
    {
     "name": "stdout",
     "output_type": "stream",
     "text": [
      "Количество NAN у криптовалюты Binance Coin: 164 из 12485\n",
      "В процентном соотношении: 1.31%\n",
      "\n",
      "Количество NAN у криптовалюты EOS.IO: 796 из 12230\n",
      "В процентном соотношении: 6.51%\n",
      "\n",
      "Количество NAN у криптовалюты Ethereum Classic: 215 из 12579\n",
      "В процентном соотношении: 1.71%\n",
      "\n",
      "Количество NAN у криптовалюты Monero: 1221 из 11947\n",
      "В процентном соотношении: 10.22%\n",
      "\n"
     ]
    }
   ],
   "source": [
    "for name in asset_details[\"Asset_Name\"]:\n",
    "    if name in set(df[df[\"Target\"].isnull()][\"Name\"]):\n",
    "        name_null_count = dict(df[df[\"Target\"].isnull()][\"Name\"].value_counts())[name]\n",
    "        name_full_count = df[df[\"Name\"] == name][\"Name\"].value_counts()[-1]\n",
    "        print(f\"Количество NAN у криптовалюты {name}: {name_null_count} из {name_full_count}\")\n",
    "        print(f\"В процентном соотношении: {round(name_null_count / name_full_count * 100, 2)}%\")\n",
    "        print()"
   ]
  },
  {
   "cell_type": "markdown",
   "id": "8e0a800a",
   "metadata": {},
   "source": [
    "* ### Удаление строк с недостающими элементами в Target"
   ]
  },
  {
   "cell_type": "code",
   "execution_count": 16,
   "id": "e58d9470",
   "metadata": {},
   "outputs": [],
   "source": [
    "df_without_null = df.drop(df[df[\"Target\"].isnull()][\"Name\"].keys(), axis=0)"
   ]
  },
  {
   "cell_type": "code",
   "execution_count": 17,
   "id": "15b5d557",
   "metadata": {},
   "outputs": [
    {
     "name": "stdout",
     "output_type": "stream",
     "text": [
      "<class 'pandas.core.frame.DataFrame'>\n",
      "Int64Index: 97604 entries, 0 to 99999\n",
      "Data columns (total 11 columns):\n",
      " #   Column     Non-Null Count  Dtype  \n",
      "---  ------     --------------  -----  \n",
      " 0   Name       97604 non-null  object \n",
      " 1   timestamp  97604 non-null  int64  \n",
      " 2   Asset_ID   97604 non-null  int64  \n",
      " 3   Count      97604 non-null  float64\n",
      " 4   Open       97604 non-null  float64\n",
      " 5   High       97604 non-null  float64\n",
      " 6   Low        97604 non-null  float64\n",
      " 7   Close      97604 non-null  float64\n",
      " 8   Volume     97604 non-null  float64\n",
      " 9   VWAP       97604 non-null  float64\n",
      " 10  Target     97604 non-null  float64\n",
      "dtypes: float64(8), int64(2), object(1)\n",
      "memory usage: 8.9+ MB\n"
     ]
    }
   ],
   "source": [
    "df_without_null.info()"
   ]
  },
  {
   "cell_type": "code",
   "execution_count": 18,
   "id": "fdb4067d",
   "metadata": {},
   "outputs": [
    {
     "data": {
      "text/html": [
       "<div>\n",
       "<style scoped>\n",
       "    .dataframe tbody tr th:only-of-type {\n",
       "        vertical-align: middle;\n",
       "    }\n",
       "\n",
       "    .dataframe tbody tr th {\n",
       "        vertical-align: top;\n",
       "    }\n",
       "\n",
       "    .dataframe thead th {\n",
       "        text-align: right;\n",
       "    }\n",
       "</style>\n",
       "<table border=\"1\" class=\"dataframe\">\n",
       "  <thead>\n",
       "    <tr style=\"text-align: right;\">\n",
       "      <th></th>\n",
       "      <th>Name</th>\n",
       "      <th>timestamp</th>\n",
       "      <th>Asset_ID</th>\n",
       "      <th>Count</th>\n",
       "      <th>Open</th>\n",
       "      <th>High</th>\n",
       "      <th>Low</th>\n",
       "      <th>Close</th>\n",
       "      <th>Volume</th>\n",
       "      <th>VWAP</th>\n",
       "      <th>Target</th>\n",
       "    </tr>\n",
       "  </thead>\n",
       "  <tbody>\n",
       "    <tr>\n",
       "      <th>0</th>\n",
       "      <td>Bitcoin Cash</td>\n",
       "      <td>1514764860</td>\n",
       "      <td>2</td>\n",
       "      <td>40.0</td>\n",
       "      <td>2376.580000</td>\n",
       "      <td>2399.5000</td>\n",
       "      <td>2357.1400</td>\n",
       "      <td>2374.590000</td>\n",
       "      <td>19.233005</td>\n",
       "      <td>2373.116392</td>\n",
       "      <td>-0.004218</td>\n",
       "    </tr>\n",
       "    <tr>\n",
       "      <th>1</th>\n",
       "      <td>Binance Coin</td>\n",
       "      <td>1514764860</td>\n",
       "      <td>0</td>\n",
       "      <td>5.0</td>\n",
       "      <td>8.530000</td>\n",
       "      <td>8.5300</td>\n",
       "      <td>8.5300</td>\n",
       "      <td>8.530000</td>\n",
       "      <td>78.380000</td>\n",
       "      <td>8.530000</td>\n",
       "      <td>-0.014399</td>\n",
       "    </tr>\n",
       "    <tr>\n",
       "      <th>2</th>\n",
       "      <td>Bitcoin</td>\n",
       "      <td>1514764860</td>\n",
       "      <td>1</td>\n",
       "      <td>229.0</td>\n",
       "      <td>13835.194000</td>\n",
       "      <td>14013.8000</td>\n",
       "      <td>13666.1100</td>\n",
       "      <td>13850.176000</td>\n",
       "      <td>31.550062</td>\n",
       "      <td>13827.062093</td>\n",
       "      <td>-0.014643</td>\n",
       "    </tr>\n",
       "    <tr>\n",
       "      <th>3</th>\n",
       "      <td>EOS.IO</td>\n",
       "      <td>1514764860</td>\n",
       "      <td>5</td>\n",
       "      <td>32.0</td>\n",
       "      <td>7.659600</td>\n",
       "      <td>7.6596</td>\n",
       "      <td>7.6567</td>\n",
       "      <td>7.657600</td>\n",
       "      <td>6626.713370</td>\n",
       "      <td>7.657713</td>\n",
       "      <td>-0.013922</td>\n",
       "    </tr>\n",
       "    <tr>\n",
       "      <th>4</th>\n",
       "      <td>Ethereum Classic</td>\n",
       "      <td>1514764860</td>\n",
       "      <td>7</td>\n",
       "      <td>5.0</td>\n",
       "      <td>25.920000</td>\n",
       "      <td>25.9200</td>\n",
       "      <td>25.8740</td>\n",
       "      <td>25.877000</td>\n",
       "      <td>121.087310</td>\n",
       "      <td>25.891363</td>\n",
       "      <td>-0.008264</td>\n",
       "    </tr>\n",
       "    <tr>\n",
       "      <th>5</th>\n",
       "      <td>Ethereum</td>\n",
       "      <td>1514764860</td>\n",
       "      <td>6</td>\n",
       "      <td>173.0</td>\n",
       "      <td>738.302500</td>\n",
       "      <td>746.0000</td>\n",
       "      <td>732.5100</td>\n",
       "      <td>738.507500</td>\n",
       "      <td>335.987856</td>\n",
       "      <td>738.839291</td>\n",
       "      <td>-0.004809</td>\n",
       "    </tr>\n",
       "    <tr>\n",
       "      <th>6</th>\n",
       "      <td>Litecoin</td>\n",
       "      <td>1514764860</td>\n",
       "      <td>9</td>\n",
       "      <td>167.0</td>\n",
       "      <td>225.330000</td>\n",
       "      <td>227.7800</td>\n",
       "      <td>222.9800</td>\n",
       "      <td>225.206667</td>\n",
       "      <td>411.896642</td>\n",
       "      <td>225.197944</td>\n",
       "      <td>-0.009791</td>\n",
       "    </tr>\n",
       "    <tr>\n",
       "      <th>8</th>\n",
       "      <td>Bitcoin Cash</td>\n",
       "      <td>1514764920</td>\n",
       "      <td>2</td>\n",
       "      <td>53.0</td>\n",
       "      <td>2374.553333</td>\n",
       "      <td>2400.9000</td>\n",
       "      <td>2354.2000</td>\n",
       "      <td>2372.286667</td>\n",
       "      <td>24.050259</td>\n",
       "      <td>2371.434498</td>\n",
       "      <td>-0.004079</td>\n",
       "    </tr>\n",
       "    <tr>\n",
       "      <th>9</th>\n",
       "      <td>Binance Coin</td>\n",
       "      <td>1514764920</td>\n",
       "      <td>0</td>\n",
       "      <td>7.0</td>\n",
       "      <td>8.530000</td>\n",
       "      <td>8.5300</td>\n",
       "      <td>8.5145</td>\n",
       "      <td>8.514500</td>\n",
       "      <td>71.390000</td>\n",
       "      <td>8.520215</td>\n",
       "      <td>-0.015875</td>\n",
       "    </tr>\n",
       "    <tr>\n",
       "      <th>10</th>\n",
       "      <td>Bitcoin</td>\n",
       "      <td>1514764920</td>\n",
       "      <td>1</td>\n",
       "      <td>235.0</td>\n",
       "      <td>13835.036000</td>\n",
       "      <td>14052.3000</td>\n",
       "      <td>13680.0000</td>\n",
       "      <td>13828.102000</td>\n",
       "      <td>31.046432</td>\n",
       "      <td>13840.362591</td>\n",
       "      <td>-0.015037</td>\n",
       "    </tr>\n",
       "  </tbody>\n",
       "</table>\n",
       "</div>"
      ],
      "text/plain": [
       "                Name   timestamp  Asset_ID  Count          Open        High  \\\n",
       "0       Bitcoin Cash  1514764860         2   40.0   2376.580000   2399.5000   \n",
       "1       Binance Coin  1514764860         0    5.0      8.530000      8.5300   \n",
       "2            Bitcoin  1514764860         1  229.0  13835.194000  14013.8000   \n",
       "3             EOS.IO  1514764860         5   32.0      7.659600      7.6596   \n",
       "4   Ethereum Classic  1514764860         7    5.0     25.920000     25.9200   \n",
       "5           Ethereum  1514764860         6  173.0    738.302500    746.0000   \n",
       "6           Litecoin  1514764860         9  167.0    225.330000    227.7800   \n",
       "8       Bitcoin Cash  1514764920         2   53.0   2374.553333   2400.9000   \n",
       "9       Binance Coin  1514764920         0    7.0      8.530000      8.5300   \n",
       "10           Bitcoin  1514764920         1  235.0  13835.036000  14052.3000   \n",
       "\n",
       "           Low         Close       Volume          VWAP    Target  \n",
       "0    2357.1400   2374.590000    19.233005   2373.116392 -0.004218  \n",
       "1       8.5300      8.530000    78.380000      8.530000 -0.014399  \n",
       "2   13666.1100  13850.176000    31.550062  13827.062093 -0.014643  \n",
       "3       7.6567      7.657600  6626.713370      7.657713 -0.013922  \n",
       "4      25.8740     25.877000   121.087310     25.891363 -0.008264  \n",
       "5     732.5100    738.507500   335.987856    738.839291 -0.004809  \n",
       "6     222.9800    225.206667   411.896642    225.197944 -0.009791  \n",
       "8    2354.2000   2372.286667    24.050259   2371.434498 -0.004079  \n",
       "9       8.5145      8.514500    71.390000      8.520215 -0.015875  \n",
       "10  13680.0000  13828.102000    31.046432  13840.362591 -0.015037  "
      ]
     },
     "execution_count": 18,
     "metadata": {},
     "output_type": "execute_result"
    }
   ],
   "source": [
    "df_without_null.head(10)"
   ]
  },
  {
   "cell_type": "markdown",
   "id": "5a87a01b",
   "metadata": {},
   "source": [
    "* ### Визуализация данных"
   ]
  },
  {
   "cell_type": "code",
   "execution_count": 19,
   "id": "e0bce94f",
   "metadata": {
    "scrolled": false
   },
   "outputs": [
    {
     "data": {
      "text/plain": [
       "<AxesSubplot:xlabel='timestamp', ylabel='Open'>"
      ]
     },
     "execution_count": 19,
     "metadata": {},
     "output_type": "execute_result"
    },
    {
     "data": {
      "image/png": "[encoded data removed]",
      "text/plain": [
       "<Figure size 1080x504 with 1 Axes>"
      ]
     },
     "metadata": {
      "needs_background": "light"
     },
     "output_type": "display_data"
    }
   ],
   "source": [
    "#Например, график цены Bitcoin на открытии\n",
    "plt.figure(figsize=(15, 7))\n",
    "sns.lineplot(x=df[df[\"Name\"] == \"Bitcoin\"][\"timestamp\"], y=df[df[\"Name\"] == \"Bitcoin\"][\"Open\"])"
   ]
  },
  {
   "cell_type": "code",
   "execution_count": 20,
   "id": "c386cf72",
   "metadata": {},
   "outputs": [
    {
     "data": {
      "text/plain": [
       "<AxesSubplot:xlabel='timestamp', ylabel='Open'>"
      ]
     },
     "execution_count": 20,
     "metadata": {},
     "output_type": "execute_result"
    },
    {
     "data": {
      "image/png": "[encoded data removed]",
      "text/plain": [
       "<Figure size 1080x504 with 1 Axes>"
      ]
     },
     "metadata": {
      "needs_background": "light"
     },
     "output_type": "display_data"
    }
   ],
   "source": [
    "#Например, график цены Monero на открытии\n",
    "plt.figure(figsize=(15, 7))\n",
    "sns.lineplot(x=df[df[\"Name\"] == \"Monero\"][\"timestamp\"], y=df[df[\"Name\"] == \"Monero\"][\"Open\"])"
   ]
  },
  {
   "cell_type": "markdown",
   "id": "9ecfaa10",
   "metadata": {},
   "source": [
    "Посмотрим график кореляции"
   ]
  },
  {
   "cell_type": "code",
   "execution_count": 21,
   "id": "1166b4ab",
   "metadata": {},
   "outputs": [
    {
     "data": {
      "text/plain": [
       "<AxesSubplot:>"
      ]
     },
     "execution_count": 21,
     "metadata": {},
     "output_type": "execute_result"
    },
    {
     "data": {
      "image/png": "[encoded data removed]",
      "text/plain": [
       "<Figure size 1080x432 with 1 Axes>"
      ]
     },
     "metadata": {
      "needs_background": "light"
     },
     "output_type": "display_data"
    }
   ],
   "source": [
    "#Посмотрим, какие фичи коррелируют с Target\n",
    "df_without_null.drop([\"timestamp\", \"Asset_ID\"], axis=1).corr()[\"Target\"].sort_values().plot(kind=\"bar\", figsize=(15, 6))"
   ]
  },
  {
   "cell_type": "markdown",
   "id": "a81759a8",
   "metadata": {},
   "source": [
    "## Part 3: Data Wrangling and Transformation"
   ]
  },
  {
   "cell_type": "markdown",
   "id": "b6ce4d72",
   "metadata": {},
   "source": [
    "* ### StandardScaler"
   ]
  },
  {
   "cell_type": "code",
   "execution_count": 22,
   "id": "243a6840",
   "metadata": {},
   "outputs": [],
   "source": [
    "features = df_without_null.drop([\"timestamp\", \"Asset_ID\", \"Count\", \"Name\"], axis=1).columns"
   ]
  },
  {
   "cell_type": "code",
   "execution_count": 23,
   "id": "73d8bbfa",
   "metadata": {},
   "outputs": [
    {
     "data": {
      "text/plain": [
       "Index(['Open', 'High', 'Low', 'Close', 'Volume', 'VWAP', 'Target'], dtype='object')"
      ]
     },
     "execution_count": 23,
     "metadata": {},
     "output_type": "execute_result"
    }
   ],
   "source": [
    "features"
   ]
  },
  {
   "cell_type": "code",
   "execution_count": 24,
   "id": "18fab2d5",
   "metadata": {},
   "outputs": [],
   "source": [
    "sc = StandardScaler()\n",
    "df_without_null_scaled = sc.fit_transform(df_without_null.drop([\"timestamp\", \"Asset_ID\", \"Count\", \"Name\"], axis=1))"
   ]
  },
  {
   "cell_type": "code",
   "execution_count": 25,
   "id": "018ed869",
   "metadata": {},
   "outputs": [],
   "source": [
    "df_without_null_scaled = pd.DataFrame(df_without_null_scaled, columns=features)"
   ]
  },
  {
   "cell_type": "code",
   "execution_count": 26,
   "id": "ca2c745b",
   "metadata": {},
   "outputs": [
    {
     "data": {
      "text/html": [
       "<div>\n",
       "<style scoped>\n",
       "    .dataframe tbody tr th:only-of-type {\n",
       "        vertical-align: middle;\n",
       "    }\n",
       "\n",
       "    .dataframe tbody tr th {\n",
       "        vertical-align: top;\n",
       "    }\n",
       "\n",
       "    .dataframe thead th {\n",
       "        text-align: right;\n",
       "    }\n",
       "</style>\n",
       "<table border=\"1\" class=\"dataframe\">\n",
       "  <thead>\n",
       "    <tr style=\"text-align: right;\">\n",
       "      <th></th>\n",
       "      <th>Open</th>\n",
       "      <th>High</th>\n",
       "      <th>Low</th>\n",
       "      <th>Close</th>\n",
       "      <th>Volume</th>\n",
       "      <th>VWAP</th>\n",
       "      <th>Target</th>\n",
       "    </tr>\n",
       "  </thead>\n",
       "  <tbody>\n",
       "    <tr>\n",
       "      <th>0</th>\n",
       "      <td>-0.024067</td>\n",
       "      <td>-0.022942</td>\n",
       "      <td>-0.024679</td>\n",
       "      <td>-0.024478</td>\n",
       "      <td>-0.283093</td>\n",
       "      <td>-0.024759</td>\n",
       "      <td>-0.428749</td>\n",
       "    </tr>\n",
       "    <tr>\n",
       "      <th>1</th>\n",
       "      <td>-0.500484</td>\n",
       "      <td>-0.500412</td>\n",
       "      <td>-0.500508</td>\n",
       "      <td>-0.500482</td>\n",
       "      <td>-0.260371</td>\n",
       "      <td>-0.500483</td>\n",
       "      <td>-1.401120</td>\n",
       "    </tr>\n",
       "    <tr>\n",
       "      <th>2</th>\n",
       "      <td>2.281239</td>\n",
       "      <td>2.296402</td>\n",
       "      <td>2.266521</td>\n",
       "      <td>2.284183</td>\n",
       "      <td>-0.278361</td>\n",
       "      <td>2.279630</td>\n",
       "      <td>-1.424449</td>\n",
       "    </tr>\n",
       "    <tr>\n",
       "      <th>3</th>\n",
       "      <td>-0.500659</td>\n",
       "      <td>-0.500586</td>\n",
       "      <td>-0.500685</td>\n",
       "      <td>-0.500658</td>\n",
       "      <td>2.255234</td>\n",
       "      <td>-0.500659</td>\n",
       "      <td>-1.355607</td>\n",
       "    </tr>\n",
       "    <tr>\n",
       "      <th>4</th>\n",
       "      <td>-0.496986</td>\n",
       "      <td>-0.496939</td>\n",
       "      <td>-0.496994</td>\n",
       "      <td>-0.496992</td>\n",
       "      <td>-0.243965</td>\n",
       "      <td>-0.496990</td>\n",
       "      <td>-0.815121</td>\n",
       "    </tr>\n",
       "    <tr>\n",
       "      <th>...</th>\n",
       "      <td>...</td>\n",
       "      <td>...</td>\n",
       "      <td>...</td>\n",
       "      <td>...</td>\n",
       "      <td>...</td>\n",
       "      <td>...</td>\n",
       "      <td>...</td>\n",
       "    </tr>\n",
       "    <tr>\n",
       "      <th>97599</th>\n",
       "      <td>-0.498688</td>\n",
       "      <td>-0.498613</td>\n",
       "      <td>-0.498699</td>\n",
       "      <td>-0.498672</td>\n",
       "      <td>-0.267685</td>\n",
       "      <td>-0.498678</td>\n",
       "      <td>-0.274379</td>\n",
       "    </tr>\n",
       "    <tr>\n",
       "      <th>97600</th>\n",
       "      <td>2.483343</td>\n",
       "      <td>2.472935</td>\n",
       "      <td>2.485137</td>\n",
       "      <td>2.481164</td>\n",
       "      <td>-0.283053</td>\n",
       "      <td>2.481570</td>\n",
       "      <td>-0.229700</td>\n",
       "    </tr>\n",
       "    <tr>\n",
       "      <th>97601</th>\n",
       "      <td>-0.500328</td>\n",
       "      <td>-0.500257</td>\n",
       "      <td>-0.500350</td>\n",
       "      <td>-0.500326</td>\n",
       "      <td>-0.265686</td>\n",
       "      <td>-0.500327</td>\n",
       "      <td>-0.537961</td>\n",
       "    </tr>\n",
       "    <tr>\n",
       "      <th>97602</th>\n",
       "      <td>-0.495307</td>\n",
       "      <td>-0.495272</td>\n",
       "      <td>-0.495307</td>\n",
       "      <td>-0.495318</td>\n",
       "      <td>-0.175423</td>\n",
       "      <td>-0.495306</td>\n",
       "      <td>0.110813</td>\n",
       "    </tr>\n",
       "    <tr>\n",
       "      <th>97603</th>\n",
       "      <td>-0.259406</td>\n",
       "      <td>-0.260683</td>\n",
       "      <td>-0.258670</td>\n",
       "      <td>-0.259389</td>\n",
       "      <td>-0.209794</td>\n",
       "      <td>-0.259409</td>\n",
       "      <td>0.176026</td>\n",
       "    </tr>\n",
       "  </tbody>\n",
       "</table>\n",
       "<p>97604 rows × 7 columns</p>\n",
       "</div>"
      ],
      "text/plain": [
       "           Open      High       Low     Close    Volume      VWAP    Target\n",
       "0     -0.024067 -0.022942 -0.024679 -0.024478 -0.283093 -0.024759 -0.428749\n",
       "1     -0.500484 -0.500412 -0.500508 -0.500482 -0.260371 -0.500483 -1.401120\n",
       "2      2.281239  2.296402  2.266521  2.284183 -0.278361  2.279630 -1.424449\n",
       "3     -0.500659 -0.500586 -0.500685 -0.500658  2.255234 -0.500659 -1.355607\n",
       "4     -0.496986 -0.496939 -0.496994 -0.496992 -0.243965 -0.496990 -0.815121\n",
       "...         ...       ...       ...       ...       ...       ...       ...\n",
       "97599 -0.498688 -0.498613 -0.498699 -0.498672 -0.267685 -0.498678 -0.274379\n",
       "97600  2.483343  2.472935  2.485137  2.481164 -0.283053  2.481570 -0.229700\n",
       "97601 -0.500328 -0.500257 -0.500350 -0.500326 -0.265686 -0.500327 -0.537961\n",
       "97602 -0.495307 -0.495272 -0.495307 -0.495318 -0.175423 -0.495306  0.110813\n",
       "97603 -0.259406 -0.260683 -0.258670 -0.259389 -0.209794 -0.259409  0.176026\n",
       "\n",
       "[97604 rows x 7 columns]"
      ]
     },
     "execution_count": 26,
     "metadata": {},
     "output_type": "execute_result"
    }
   ],
   "source": [
    "df_without_null_scaled"
   ]
  },
  {
   "cell_type": "markdown",
   "id": "ec92dc58",
   "metadata": {},
   "source": [
    "* ### Создание датасетов для машинного обучения"
   ]
  },
  {
   "cell_type": "code",
   "execution_count": 27,
   "id": "a1a7f2a5",
   "metadata": {},
   "outputs": [],
   "source": [
    "X = df_without_null_scaled.drop(\"Target\", axis=1)"
   ]
  },
  {
   "cell_type": "code",
   "execution_count": 28,
   "id": "7057a25b",
   "metadata": {},
   "outputs": [
    {
     "data": {
      "text/html": [
       "<div>\n",
       "<style scoped>\n",
       "    .dataframe tbody tr th:only-of-type {\n",
       "        vertical-align: middle;\n",
       "    }\n",
       "\n",
       "    .dataframe tbody tr th {\n",
       "        vertical-align: top;\n",
       "    }\n",
       "\n",
       "    .dataframe thead th {\n",
       "        text-align: right;\n",
       "    }\n",
       "</style>\n",
       "<table border=\"1\" class=\"dataframe\">\n",
       "  <thead>\n",
       "    <tr style=\"text-align: right;\">\n",
       "      <th></th>\n",
       "      <th>Open</th>\n",
       "      <th>High</th>\n",
       "      <th>Low</th>\n",
       "      <th>Close</th>\n",
       "      <th>Volume</th>\n",
       "      <th>VWAP</th>\n",
       "    </tr>\n",
       "  </thead>\n",
       "  <tbody>\n",
       "    <tr>\n",
       "      <th>0</th>\n",
       "      <td>-0.024067</td>\n",
       "      <td>-0.022942</td>\n",
       "      <td>-0.024679</td>\n",
       "      <td>-0.024478</td>\n",
       "      <td>-0.283093</td>\n",
       "      <td>-0.024759</td>\n",
       "    </tr>\n",
       "    <tr>\n",
       "      <th>1</th>\n",
       "      <td>-0.500484</td>\n",
       "      <td>-0.500412</td>\n",
       "      <td>-0.500508</td>\n",
       "      <td>-0.500482</td>\n",
       "      <td>-0.260371</td>\n",
       "      <td>-0.500483</td>\n",
       "    </tr>\n",
       "    <tr>\n",
       "      <th>2</th>\n",
       "      <td>2.281239</td>\n",
       "      <td>2.296402</td>\n",
       "      <td>2.266521</td>\n",
       "      <td>2.284183</td>\n",
       "      <td>-0.278361</td>\n",
       "      <td>2.279630</td>\n",
       "    </tr>\n",
       "    <tr>\n",
       "      <th>3</th>\n",
       "      <td>-0.500659</td>\n",
       "      <td>-0.500586</td>\n",
       "      <td>-0.500685</td>\n",
       "      <td>-0.500658</td>\n",
       "      <td>2.255234</td>\n",
       "      <td>-0.500659</td>\n",
       "    </tr>\n",
       "    <tr>\n",
       "      <th>4</th>\n",
       "      <td>-0.496986</td>\n",
       "      <td>-0.496939</td>\n",
       "      <td>-0.496994</td>\n",
       "      <td>-0.496992</td>\n",
       "      <td>-0.243965</td>\n",
       "      <td>-0.496990</td>\n",
       "    </tr>\n",
       "  </tbody>\n",
       "</table>\n",
       "</div>"
      ],
      "text/plain": [
       "       Open      High       Low     Close    Volume      VWAP\n",
       "0 -0.024067 -0.022942 -0.024679 -0.024478 -0.283093 -0.024759\n",
       "1 -0.500484 -0.500412 -0.500508 -0.500482 -0.260371 -0.500483\n",
       "2  2.281239  2.296402  2.266521  2.284183 -0.278361  2.279630\n",
       "3 -0.500659 -0.500586 -0.500685 -0.500658  2.255234 -0.500659\n",
       "4 -0.496986 -0.496939 -0.496994 -0.496992 -0.243965 -0.496990"
      ]
     },
     "execution_count": 28,
     "metadata": {},
     "output_type": "execute_result"
    }
   ],
   "source": [
    "X.head()"
   ]
  },
  {
   "cell_type": "code",
   "execution_count": 29,
   "id": "695d5cb4",
   "metadata": {},
   "outputs": [],
   "source": [
    "y = df_without_null_scaled[\"Target\"]"
   ]
  },
  {
   "cell_type": "code",
   "execution_count": 30,
   "id": "0d602307",
   "metadata": {},
   "outputs": [
    {
     "data": {
      "text/plain": [
       "0   -0.428749\n",
       "1   -1.401120\n",
       "2   -1.424449\n",
       "3   -1.355607\n",
       "4   -0.815121\n",
       "Name: Target, dtype: float64"
      ]
     },
     "execution_count": 30,
     "metadata": {},
     "output_type": "execute_result"
    }
   ],
   "source": [
    "y.head()"
   ]
  },
  {
   "cell_type": "markdown",
   "id": "08323585",
   "metadata": {},
   "source": [
    "* ### 'Train\\Valid' split"
   ]
  },
  {
   "cell_type": "markdown",
   "id": "4e8b4cb1",
   "metadata": {},
   "source": [
    "Возьмем первые 80% данных в качестве обучающих. Остальные 20% данных в качестве валидационных"
   ]
  },
  {
   "cell_type": "code",
   "execution_count": 31,
   "id": "9878be9c",
   "metadata": {},
   "outputs": [
    {
     "data": {
      "text/plain": [
       "(97604, 6)"
      ]
     },
     "execution_count": 31,
     "metadata": {},
     "output_type": "execute_result"
    }
   ],
   "source": [
    "X.shape"
   ]
  },
  {
   "cell_type": "code",
   "execution_count": 32,
   "id": "e9223c52",
   "metadata": {},
   "outputs": [],
   "source": [
    "X_train, y_train = X[:int(X.shape[0] * 0.8)], y[:int(X.shape[0] * 0.8)]"
   ]
  },
  {
   "cell_type": "code",
   "execution_count": 33,
   "id": "572d263b",
   "metadata": {},
   "outputs": [
    {
     "data": {
      "text/plain": [
       "((78083, 6), (78083,))"
      ]
     },
     "execution_count": 33,
     "metadata": {},
     "output_type": "execute_result"
    }
   ],
   "source": [
    "X_train.shape, y_train.shape"
   ]
  },
  {
   "cell_type": "code",
   "execution_count": 34,
   "id": "a108cfb9",
   "metadata": {},
   "outputs": [],
   "source": [
    "X_valid, y_valid = X[int(X.shape[0] * 0.8):], y[int(X.shape[0] * 0.8):]"
   ]
  },
  {
   "cell_type": "code",
   "execution_count": 35,
   "id": "99befc18",
   "metadata": {},
   "outputs": [
    {
     "data": {
      "text/plain": [
       "((19521, 6), (19521,))"
      ]
     },
     "execution_count": 35,
     "metadata": {},
     "output_type": "execute_result"
    }
   ],
   "source": [
    "X_valid.shape, y_valid.shape"
   ]
  },
  {
   "cell_type": "markdown",
   "id": "df7ff2fe",
   "metadata": {},
   "source": [
    "## Part 4: Machine Learning"
   ]
  },
  {
   "cell_type": "markdown",
   "id": "9a080f3b",
   "metadata": {},
   "source": [
    "* ### Linear Regression"
   ]
  },
  {
   "cell_type": "code",
   "execution_count": 36,
   "id": "8f9462a4",
   "metadata": {},
   "outputs": [],
   "source": [
    "LR = LinearRegression()"
   ]
  },
  {
   "cell_type": "code",
   "execution_count": 37,
   "id": "464c1c57",
   "metadata": {},
   "outputs": [
    {
     "data": {
      "text/plain": [
       "LinearRegression()"
      ]
     },
     "execution_count": 37,
     "metadata": {},
     "output_type": "execute_result"
    }
   ],
   "source": [
    "LR.fit(X_train, y_train)"
   ]
  },
  {
   "cell_type": "code",
   "execution_count": 38,
   "id": "23bcc36e",
   "metadata": {},
   "outputs": [],
   "source": [
    "LR_pred = LR.predict(X_valid)"
   ]
  },
  {
   "cell_type": "code",
   "execution_count": 39,
   "id": "9a0ff74c",
   "metadata": {},
   "outputs": [
    {
     "data": {
      "text/plain": [
       "array([0.0101081 , 0.0141758 , 0.0159084 , ..., 0.01200148, 0.01332123,\n",
       "       0.00927901])"
      ]
     },
     "execution_count": 39,
     "metadata": {},
     "output_type": "execute_result"
    }
   ],
   "source": [
    "LR_pred"
   ]
  },
  {
   "cell_type": "code",
   "execution_count": 40,
   "id": "cda6d14c",
   "metadata": {},
   "outputs": [
    {
     "data": {
      "text/html": [
       "<div>\n",
       "<style scoped>\n",
       "    .dataframe tbody tr th:only-of-type {\n",
       "        vertical-align: middle;\n",
       "    }\n",
       "\n",
       "    .dataframe tbody tr th {\n",
       "        vertical-align: top;\n",
       "    }\n",
       "\n",
       "    .dataframe thead th {\n",
       "        text-align: right;\n",
       "    }\n",
       "</style>\n",
       "<table border=\"1\" class=\"dataframe\">\n",
       "  <thead>\n",
       "    <tr style=\"text-align: right;\">\n",
       "      <th></th>\n",
       "      <th>Actual</th>\n",
       "      <th>Predicted</th>\n",
       "    </tr>\n",
       "  </thead>\n",
       "  <tbody>\n",
       "    <tr>\n",
       "      <th>78083</th>\n",
       "      <td>-0.029522</td>\n",
       "      <td>0.010108</td>\n",
       "    </tr>\n",
       "    <tr>\n",
       "      <th>78084</th>\n",
       "      <td>0.426933</td>\n",
       "      <td>0.014176</td>\n",
       "    </tr>\n",
       "    <tr>\n",
       "      <th>78085</th>\n",
       "      <td>-1.035697</td>\n",
       "      <td>0.015908</td>\n",
       "    </tr>\n",
       "    <tr>\n",
       "      <th>78086</th>\n",
       "      <td>0.702946</td>\n",
       "      <td>0.104701</td>\n",
       "    </tr>\n",
       "    <tr>\n",
       "      <th>78087</th>\n",
       "      <td>0.560660</td>\n",
       "      <td>0.037787</td>\n",
       "    </tr>\n",
       "    <tr>\n",
       "      <th>...</th>\n",
       "      <td>...</td>\n",
       "      <td>...</td>\n",
       "    </tr>\n",
       "    <tr>\n",
       "      <th>97599</th>\n",
       "      <td>-0.274379</td>\n",
       "      <td>0.012167</td>\n",
       "    </tr>\n",
       "    <tr>\n",
       "      <th>97600</th>\n",
       "      <td>-0.229700</td>\n",
       "      <td>-0.065145</td>\n",
       "    </tr>\n",
       "    <tr>\n",
       "      <th>97601</th>\n",
       "      <td>-0.537961</td>\n",
       "      <td>0.012001</td>\n",
       "    </tr>\n",
       "    <tr>\n",
       "      <th>97602</th>\n",
       "      <td>0.110813</td>\n",
       "      <td>0.013321</td>\n",
       "    </tr>\n",
       "    <tr>\n",
       "      <th>97603</th>\n",
       "      <td>0.176026</td>\n",
       "      <td>0.009279</td>\n",
       "    </tr>\n",
       "  </tbody>\n",
       "</table>\n",
       "<p>19521 rows × 2 columns</p>\n",
       "</div>"
      ],
      "text/plain": [
       "         Actual  Predicted\n",
       "78083 -0.029522   0.010108\n",
       "78084  0.426933   0.014176\n",
       "78085 -1.035697   0.015908\n",
       "78086  0.702946   0.104701\n",
       "78087  0.560660   0.037787\n",
       "...         ...        ...\n",
       "97599 -0.274379   0.012167\n",
       "97600 -0.229700  -0.065145\n",
       "97601 -0.537961   0.012001\n",
       "97602  0.110813   0.013321\n",
       "97603  0.176026   0.009279\n",
       "\n",
       "[19521 rows x 2 columns]"
      ]
     },
     "execution_count": 40,
     "metadata": {},
     "output_type": "execute_result"
    }
   ],
   "source": [
    "pd.DataFrame({\"Actual\": y_valid, \"Predicted\": LR_pred})"
   ]
  },
  {
   "cell_type": "code",
   "execution_count": 43,
   "id": "fe19d053",
   "metadata": {},
   "outputs": [
    {
     "data": {
      "text/plain": [
       "1.0208911598647128"
      ]
     },
     "execution_count": 43,
     "metadata": {},
     "output_type": "execute_result"
    }
   ],
   "source": [
    "np.sqrt(mean_squared_error(y_valid, LR_pred))"
   ]
  }
 ],
 "metadata": {
  "kernelspec": {
   "display_name": "Python 3 (ipykernel)",
   "language": "python",
   "name": "python3"
  },
  "language_info": {
   "codemirror_mode": {
    "name": "ipython",
    "version": 3
   },
   "file_extension": ".py",
   "mimetype": "text/x-python",
   "name": "python",
   "nbconvert_exporter": "python",
   "pygments_lexer": "ipython3",
   "version": "3.9.7"
  }
 },
 "nbformat": 4,
 "nbformat_minor": 5
}
