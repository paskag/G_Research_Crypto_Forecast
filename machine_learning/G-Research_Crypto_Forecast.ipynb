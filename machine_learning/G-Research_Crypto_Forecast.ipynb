{
 "cells": [
  {
   "cell_type": "markdown",
   "id": "8dc85690",
   "metadata": {},
   "source": [
    "# G-Research Crypto Forecast"
   ]
  },
  {
   "cell_type": "markdown",
   "id": "ee2b0bd7",
   "metadata": {},
   "source": [
    "## Part 0: Introduction\n",
    "\n",
    "* ### Описание:\n",
    "\n",
    "#### Ежедневно на рынке криптовалют проводятся операции на сумму более 40 миллиардов долларов. Криптовалюты являются одними из самых популярных активов как для спекуляций, так и для инвестиций. При этом рынок криптовалят является достаточно волатильным. Датасет содержит информацию о прошлых сделках по криптовалютам. Например, таких Bitcoin и Ethereum. \n",
    "#### Задача - предсказать будущую прибыль криптовалют.\n",
    "\n",
    "* ### Датасеты:\n",
    "\n",
    "1. train.csv - обучающий датасет\n",
    "\n",
    "    * timestamp - отметка времени в минутах в формате Unix. Отметки времени в этом наборе данных кратны 60, что указывает на поминутные данные\n",
    "    * Asset_ID - ID криптовалюты\n",
    "    * Count - общее количество сделок, состоявшихся в данную минуту\n",
    "    * Open - стомиость криптовалюты в начале минуты, долларах США\n",
    "    * High - самая высокая стоимость криптовалюты за минуту, доллар США\n",
    "    * Low - самая низкая стоимость криптовалюты цена за минуту, доллар США\n",
    "    * Volume - количество единиц криптовалюты, проданных или купленных в течение минуты\n",
    "    * VWAP - средневзвешенная стоимость криптовалюты за минуту, доллар США\n",
    "    * Target - остаточная логарифмическая доходность актива на горизонте 15 минут\n",
    "\n",
    "\n",
    "2. asset_details.csv - датасет с дополнительной информацией\n",
    "\n",
    "    * Asset_ID - ID криптовалюты\n",
    "    * Weight - вес каждого актива, используемый для взвешивания его относительной важности в метрике оценки\n",
    "    * Asset_Name - название криптовалюты\n",
    "   \n",
    "## [Part 1: Import, Load Data](#Part-1:-Import,-Load-Data)\n",
    "* ### Импорт библиотек, чтение '.csv' файлов\n",
    "\n",
    "## [Part 2: Exploratory Data Analysis](#Part-2:-Exploratory-Data-Analysis)\n",
    "* ### Head, Info\n",
    "* ### Обработка датасета asset_details\n",
    "* ### Добавление названия криптовалюты в обучающий датасет\n",
    "* ### Анализ недостающих элементов в Target\n",
    "* ### Удаление строк с недостающими элементами в Target\n",
    "* ### Визуализация данных\n",
    "\n",
    "## [Part 3: Data Wrangling and Transformation](#Part-3:-Data-Wrangling-and-Transformation)\n",
    "* ### StandardScaler\n",
    "* ### Создание датасетов для машинного обучения\n",
    "* ### 'Train\\Valid' split\n",
    "\n",
    "\n",
    "## [Part 4: Machine Learning](#Part-4:-Machine-Learning)\n",
    "* ### Linear Regression\n"
   ]
  },
  {
   "cell_type": "markdown",
   "id": "4aa5bd05",
   "metadata": {},
   "source": [
    "## Part 1: Import, Load Data"
   ]
  },
  {
   "cell_type": "markdown",
   "id": "75f82d0c",
   "metadata": {},
   "source": [
    "* ### Import "
   ]
  },
  {
   "cell_type": "code",
   "execution_count": 93,
   "id": "c670bcfa",
   "metadata": {},
   "outputs": [],
   "source": [
    "import pandas as pd\n",
    "import numpy as np\n",
    "import seaborn as sns\n",
    "import matplotlib.pyplot as plt\n",
    "from sklearn.preprocessing import StandardScaler\n",
    "from sklearn.linear_model import LinearRegression\n",
    "from sklearn.metrics import mean_squared_error\n",
    "from sklearn.tree import DecisionTreeRegressor\n",
    "from sklearn.ensemble import RandomForestRegressor\n",
    "from sklearn.model_selection import GridSearchCV"
   ]
  },
  {
   "cell_type": "markdown",
   "id": "e968799a",
   "metadata": {},
   "source": [
    "* ### Load Data "
   ]
  },
  {
   "cell_type": "code",
   "execution_count": 2,
   "id": "eb0e02b2",
   "metadata": {},
   "outputs": [],
   "source": [
    "#загрузим первые 100 тысяч строк\n",
    "df = pd.read_csv(\"train.csv\", nrows=100000)"
   ]
  },
  {
   "cell_type": "code",
   "execution_count": 3,
   "id": "f97486e3",
   "metadata": {},
   "outputs": [],
   "source": [
    "asset_details = pd.read_csv(\"asset_details.csv\", nrows=100000) "
   ]
  },
  {
   "cell_type": "markdown",
   "id": "eec54847",
   "metadata": {},
   "source": [
    "## Part 2: Exploratory-Data-Analysis"
   ]
  },
  {
   "cell_type": "markdown",
   "id": "3684b6a0",
   "metadata": {},
   "source": [
    "* ### Head"
   ]
  },
  {
   "cell_type": "code",
   "execution_count": 4,
   "id": "5f680cd4",
   "metadata": {},
   "outputs": [
    {
     "data": {
      "text/html": [
       "<div>\n",
       "<style scoped>\n",
       "    .dataframe tbody tr th:only-of-type {\n",
       "        vertical-align: middle;\n",
       "    }\n",
       "\n",
       "    .dataframe tbody tr th {\n",
       "        vertical-align: top;\n",
       "    }\n",
       "\n",
       "    .dataframe thead th {\n",
       "        text-align: right;\n",
       "    }\n",
       "</style>\n",
       "<table border=\"1\" class=\"dataframe\">\n",
       "  <thead>\n",
       "    <tr style=\"text-align: right;\">\n",
       "      <th></th>\n",
       "      <th>timestamp</th>\n",
       "      <th>Asset_ID</th>\n",
       "      <th>Count</th>\n",
       "      <th>Open</th>\n",
       "      <th>High</th>\n",
       "      <th>Low</th>\n",
       "      <th>Close</th>\n",
       "      <th>Volume</th>\n",
       "      <th>VWAP</th>\n",
       "      <th>Target</th>\n",
       "    </tr>\n",
       "  </thead>\n",
       "  <tbody>\n",
       "    <tr>\n",
       "      <th>0</th>\n",
       "      <td>1514764860</td>\n",
       "      <td>2</td>\n",
       "      <td>40.0</td>\n",
       "      <td>2376.5800</td>\n",
       "      <td>2399.5000</td>\n",
       "      <td>2357.1400</td>\n",
       "      <td>2374.5900</td>\n",
       "      <td>19.233005</td>\n",
       "      <td>2373.116392</td>\n",
       "      <td>-0.004218</td>\n",
       "    </tr>\n",
       "    <tr>\n",
       "      <th>1</th>\n",
       "      <td>1514764860</td>\n",
       "      <td>0</td>\n",
       "      <td>5.0</td>\n",
       "      <td>8.5300</td>\n",
       "      <td>8.5300</td>\n",
       "      <td>8.5300</td>\n",
       "      <td>8.5300</td>\n",
       "      <td>78.380000</td>\n",
       "      <td>8.530000</td>\n",
       "      <td>-0.014399</td>\n",
       "    </tr>\n",
       "    <tr>\n",
       "      <th>2</th>\n",
       "      <td>1514764860</td>\n",
       "      <td>1</td>\n",
       "      <td>229.0</td>\n",
       "      <td>13835.1940</td>\n",
       "      <td>14013.8000</td>\n",
       "      <td>13666.1100</td>\n",
       "      <td>13850.1760</td>\n",
       "      <td>31.550062</td>\n",
       "      <td>13827.062093</td>\n",
       "      <td>-0.014643</td>\n",
       "    </tr>\n",
       "    <tr>\n",
       "      <th>3</th>\n",
       "      <td>1514764860</td>\n",
       "      <td>5</td>\n",
       "      <td>32.0</td>\n",
       "      <td>7.6596</td>\n",
       "      <td>7.6596</td>\n",
       "      <td>7.6567</td>\n",
       "      <td>7.6576</td>\n",
       "      <td>6626.713370</td>\n",
       "      <td>7.657713</td>\n",
       "      <td>-0.013922</td>\n",
       "    </tr>\n",
       "    <tr>\n",
       "      <th>4</th>\n",
       "      <td>1514764860</td>\n",
       "      <td>7</td>\n",
       "      <td>5.0</td>\n",
       "      <td>25.9200</td>\n",
       "      <td>25.9200</td>\n",
       "      <td>25.8740</td>\n",
       "      <td>25.8770</td>\n",
       "      <td>121.087310</td>\n",
       "      <td>25.891363</td>\n",
       "      <td>-0.008264</td>\n",
       "    </tr>\n",
       "  </tbody>\n",
       "</table>\n",
       "</div>"
      ],
      "text/plain": [
       "    timestamp  Asset_ID  Count        Open        High         Low  \\\n",
       "0  1514764860         2   40.0   2376.5800   2399.5000   2357.1400   \n",
       "1  1514764860         0    5.0      8.5300      8.5300      8.5300   \n",
       "2  1514764860         1  229.0  13835.1940  14013.8000  13666.1100   \n",
       "3  1514764860         5   32.0      7.6596      7.6596      7.6567   \n",
       "4  1514764860         7    5.0     25.9200     25.9200     25.8740   \n",
       "\n",
       "        Close       Volume          VWAP    Target  \n",
       "0   2374.5900    19.233005   2373.116392 -0.004218  \n",
       "1      8.5300    78.380000      8.530000 -0.014399  \n",
       "2  13850.1760    31.550062  13827.062093 -0.014643  \n",
       "3      7.6576  6626.713370      7.657713 -0.013922  \n",
       "4     25.8770   121.087310     25.891363 -0.008264  "
      ]
     },
     "execution_count": 4,
     "metadata": {},
     "output_type": "execute_result"
    }
   ],
   "source": [
    "df.head()"
   ]
  },
  {
   "cell_type": "code",
   "execution_count": 5,
   "id": "81058b83",
   "metadata": {},
   "outputs": [
    {
     "data": {
      "text/html": [
       "<div>\n",
       "<style scoped>\n",
       "    .dataframe tbody tr th:only-of-type {\n",
       "        vertical-align: middle;\n",
       "    }\n",
       "\n",
       "    .dataframe tbody tr th {\n",
       "        vertical-align: top;\n",
       "    }\n",
       "\n",
       "    .dataframe thead th {\n",
       "        text-align: right;\n",
       "    }\n",
       "</style>\n",
       "<table border=\"1\" class=\"dataframe\">\n",
       "  <thead>\n",
       "    <tr style=\"text-align: right;\">\n",
       "      <th></th>\n",
       "      <th>Asset_ID</th>\n",
       "      <th>Weight</th>\n",
       "      <th>Asset_Name</th>\n",
       "    </tr>\n",
       "  </thead>\n",
       "  <tbody>\n",
       "    <tr>\n",
       "      <th>0</th>\n",
       "      <td>2</td>\n",
       "      <td>2.397895</td>\n",
       "      <td>Bitcoin Cash</td>\n",
       "    </tr>\n",
       "    <tr>\n",
       "      <th>1</th>\n",
       "      <td>0</td>\n",
       "      <td>4.304065</td>\n",
       "      <td>Binance Coin</td>\n",
       "    </tr>\n",
       "    <tr>\n",
       "      <th>2</th>\n",
       "      <td>1</td>\n",
       "      <td>6.779922</td>\n",
       "      <td>Bitcoin</td>\n",
       "    </tr>\n",
       "    <tr>\n",
       "      <th>3</th>\n",
       "      <td>5</td>\n",
       "      <td>1.386294</td>\n",
       "      <td>EOS.IO</td>\n",
       "    </tr>\n",
       "    <tr>\n",
       "      <th>4</th>\n",
       "      <td>7</td>\n",
       "      <td>2.079442</td>\n",
       "      <td>Ethereum Classic</td>\n",
       "    </tr>\n",
       "    <tr>\n",
       "      <th>5</th>\n",
       "      <td>6</td>\n",
       "      <td>5.894403</td>\n",
       "      <td>Ethereum</td>\n",
       "    </tr>\n",
       "    <tr>\n",
       "      <th>6</th>\n",
       "      <td>9</td>\n",
       "      <td>2.397895</td>\n",
       "      <td>Litecoin</td>\n",
       "    </tr>\n",
       "    <tr>\n",
       "      <th>7</th>\n",
       "      <td>11</td>\n",
       "      <td>1.609438</td>\n",
       "      <td>Monero</td>\n",
       "    </tr>\n",
       "    <tr>\n",
       "      <th>8</th>\n",
       "      <td>13</td>\n",
       "      <td>1.791759</td>\n",
       "      <td>TRON</td>\n",
       "    </tr>\n",
       "    <tr>\n",
       "      <th>9</th>\n",
       "      <td>12</td>\n",
       "      <td>2.079442</td>\n",
       "      <td>Stellar</td>\n",
       "    </tr>\n",
       "    <tr>\n",
       "      <th>10</th>\n",
       "      <td>3</td>\n",
       "      <td>4.406719</td>\n",
       "      <td>Cardano</td>\n",
       "    </tr>\n",
       "    <tr>\n",
       "      <th>11</th>\n",
       "      <td>8</td>\n",
       "      <td>1.098612</td>\n",
       "      <td>IOTA</td>\n",
       "    </tr>\n",
       "    <tr>\n",
       "      <th>12</th>\n",
       "      <td>10</td>\n",
       "      <td>1.098612</td>\n",
       "      <td>Maker</td>\n",
       "    </tr>\n",
       "    <tr>\n",
       "      <th>13</th>\n",
       "      <td>4</td>\n",
       "      <td>3.555348</td>\n",
       "      <td>Dogecoin</td>\n",
       "    </tr>\n",
       "  </tbody>\n",
       "</table>\n",
       "</div>"
      ],
      "text/plain": [
       "    Asset_ID    Weight        Asset_Name\n",
       "0          2  2.397895      Bitcoin Cash\n",
       "1          0  4.304065      Binance Coin\n",
       "2          1  6.779922           Bitcoin\n",
       "3          5  1.386294            EOS.IO\n",
       "4          7  2.079442  Ethereum Classic\n",
       "5          6  5.894403          Ethereum\n",
       "6          9  2.397895          Litecoin\n",
       "7         11  1.609438            Monero\n",
       "8         13  1.791759              TRON\n",
       "9         12  2.079442           Stellar\n",
       "10         3  4.406719           Cardano\n",
       "11         8  1.098612              IOTA\n",
       "12        10  1.098612             Maker\n",
       "13         4  3.555348          Dogecoin"
      ]
     },
     "execution_count": 5,
     "metadata": {},
     "output_type": "execute_result"
    }
   ],
   "source": [
    "asset_details"
   ]
  },
  {
   "cell_type": "markdown",
   "id": "6e027269",
   "metadata": {},
   "source": [
    "* ### Info "
   ]
  },
  {
   "cell_type": "code",
   "execution_count": 6,
   "id": "15e32625",
   "metadata": {},
   "outputs": [
    {
     "name": "stdout",
     "output_type": "stream",
     "text": [
      "<class 'pandas.core.frame.DataFrame'>\n",
      "RangeIndex: 100000 entries, 0 to 99999\n",
      "Data columns (total 10 columns):\n",
      " #   Column     Non-Null Count   Dtype  \n",
      "---  ------     --------------   -----  \n",
      " 0   timestamp  100000 non-null  int64  \n",
      " 1   Asset_ID   100000 non-null  int64  \n",
      " 2   Count      100000 non-null  float64\n",
      " 3   Open       100000 non-null  float64\n",
      " 4   High       100000 non-null  float64\n",
      " 5   Low        100000 non-null  float64\n",
      " 6   Close      100000 non-null  float64\n",
      " 7   Volume     100000 non-null  float64\n",
      " 8   VWAP       100000 non-null  float64\n",
      " 9   Target     97604 non-null   float64\n",
      "dtypes: float64(8), int64(2)\n",
      "memory usage: 7.6 MB\n"
     ]
    }
   ],
   "source": [
    "df.info()"
   ]
  },
  {
   "cell_type": "markdown",
   "id": "ee0da10d",
   "metadata": {},
   "source": [
    "Есть пропущенные значения в колонке Target. Их нужно будет заполнить"
   ]
  },
  {
   "cell_type": "code",
   "execution_count": 7,
   "id": "e789237b",
   "metadata": {},
   "outputs": [
    {
     "data": {
      "text/plain": [
       "count    97604.000000\n",
       "mean         0.000271\n",
       "std          0.010470\n",
       "min         -0.099856\n",
       "25%         -0.004165\n",
       "50%          0.000000\n",
       "75%          0.004304\n",
       "max          0.129324\n",
       "Name: Target, dtype: float64"
      ]
     },
     "execution_count": 7,
     "metadata": {},
     "output_type": "execute_result"
    }
   ],
   "source": [
    "df[\"Target\"].describe()"
   ]
  },
  {
   "cell_type": "code",
   "execution_count": 8,
   "id": "13991d35",
   "metadata": {
    "scrolled": true
   },
   "outputs": [
    {
     "data": {
      "text/plain": [
       "<AxesSubplot:xlabel='Target', ylabel='Count'>"
      ]
     },
     "execution_count": 8,
     "metadata": {},
     "output_type": "execute_result"
    },
    {
     "data": {
      "image/png": "[encoded data removed]",
      "text/plain": [
       "<Figure size 432x288 with 1 Axes>"
      ]
     },
     "metadata": {
      "needs_background": "light"
     },
     "output_type": "display_data"
    }
   ],
   "source": [
    "sns.histplot(df['Target'], color='g', kde=True)"
   ]
  },
  {
   "cell_type": "markdown",
   "id": "76083bb2",
   "metadata": {},
   "source": [
    "Распределение значений Target близко к нормальному"
   ]
  },
  {
   "cell_type": "markdown",
   "id": "803de45e",
   "metadata": {},
   "source": [
    "* ### Обработка датасета asset_details"
   ]
  },
  {
   "cell_type": "markdown",
   "id": "a6ee6fe6",
   "metadata": {},
   "source": [
    "Зададим ID криптовалюты как индекс данного датасета"
   ]
  },
  {
   "cell_type": "code",
   "execution_count": 9,
   "id": "808a85b0",
   "metadata": {},
   "outputs": [],
   "source": [
    "asset_details.set_index(\"Asset_ID\", inplace=True)"
   ]
  },
  {
   "cell_type": "code",
   "execution_count": 10,
   "id": "19fa67d0",
   "metadata": {},
   "outputs": [
    {
     "data": {
      "text/html": [
       "<div>\n",
       "<style scoped>\n",
       "    .dataframe tbody tr th:only-of-type {\n",
       "        vertical-align: middle;\n",
       "    }\n",
       "\n",
       "    .dataframe tbody tr th {\n",
       "        vertical-align: top;\n",
       "    }\n",
       "\n",
       "    .dataframe thead th {\n",
       "        text-align: right;\n",
       "    }\n",
       "</style>\n",
       "<table border=\"1\" class=\"dataframe\">\n",
       "  <thead>\n",
       "    <tr style=\"text-align: right;\">\n",
       "      <th></th>\n",
       "      <th>Weight</th>\n",
       "      <th>Asset_Name</th>\n",
       "    </tr>\n",
       "    <tr>\n",
       "      <th>Asset_ID</th>\n",
       "      <th></th>\n",
       "      <th></th>\n",
       "    </tr>\n",
       "  </thead>\n",
       "  <tbody>\n",
       "    <tr>\n",
       "      <th>2</th>\n",
       "      <td>2.397895</td>\n",
       "      <td>Bitcoin Cash</td>\n",
       "    </tr>\n",
       "    <tr>\n",
       "      <th>0</th>\n",
       "      <td>4.304065</td>\n",
       "      <td>Binance Coin</td>\n",
       "    </tr>\n",
       "    <tr>\n",
       "      <th>1</th>\n",
       "      <td>6.779922</td>\n",
       "      <td>Bitcoin</td>\n",
       "    </tr>\n",
       "    <tr>\n",
       "      <th>5</th>\n",
       "      <td>1.386294</td>\n",
       "      <td>EOS.IO</td>\n",
       "    </tr>\n",
       "    <tr>\n",
       "      <th>7</th>\n",
       "      <td>2.079442</td>\n",
       "      <td>Ethereum Classic</td>\n",
       "    </tr>\n",
       "    <tr>\n",
       "      <th>6</th>\n",
       "      <td>5.894403</td>\n",
       "      <td>Ethereum</td>\n",
       "    </tr>\n",
       "    <tr>\n",
       "      <th>9</th>\n",
       "      <td>2.397895</td>\n",
       "      <td>Litecoin</td>\n",
       "    </tr>\n",
       "    <tr>\n",
       "      <th>11</th>\n",
       "      <td>1.609438</td>\n",
       "      <td>Monero</td>\n",
       "    </tr>\n",
       "    <tr>\n",
       "      <th>13</th>\n",
       "      <td>1.791759</td>\n",
       "      <td>TRON</td>\n",
       "    </tr>\n",
       "    <tr>\n",
       "      <th>12</th>\n",
       "      <td>2.079442</td>\n",
       "      <td>Stellar</td>\n",
       "    </tr>\n",
       "    <tr>\n",
       "      <th>3</th>\n",
       "      <td>4.406719</td>\n",
       "      <td>Cardano</td>\n",
       "    </tr>\n",
       "    <tr>\n",
       "      <th>8</th>\n",
       "      <td>1.098612</td>\n",
       "      <td>IOTA</td>\n",
       "    </tr>\n",
       "    <tr>\n",
       "      <th>10</th>\n",
       "      <td>1.098612</td>\n",
       "      <td>Maker</td>\n",
       "    </tr>\n",
       "    <tr>\n",
       "      <th>4</th>\n",
       "      <td>3.555348</td>\n",
       "      <td>Dogecoin</td>\n",
       "    </tr>\n",
       "  </tbody>\n",
       "</table>\n",
       "</div>"
      ],
      "text/plain": [
       "            Weight        Asset_Name\n",
       "Asset_ID                            \n",
       "2         2.397895      Bitcoin Cash\n",
       "0         4.304065      Binance Coin\n",
       "1         6.779922           Bitcoin\n",
       "5         1.386294            EOS.IO\n",
       "7         2.079442  Ethereum Classic\n",
       "6         5.894403          Ethereum\n",
       "9         2.397895          Litecoin\n",
       "11        1.609438            Monero\n",
       "13        1.791759              TRON\n",
       "12        2.079442           Stellar\n",
       "3         4.406719           Cardano\n",
       "8         1.098612              IOTA\n",
       "10        1.098612             Maker\n",
       "4         3.555348          Dogecoin"
      ]
     },
     "execution_count": 10,
     "metadata": {},
     "output_type": "execute_result"
    }
   ],
   "source": [
    "asset_details"
   ]
  },
  {
   "cell_type": "markdown",
   "id": "16c377f8",
   "metadata": {},
   "source": [
    "* ### Добавление названия криптовалюты в обучающий датасет"
   ]
  },
  {
   "cell_type": "code",
   "execution_count": 11,
   "id": "9e0b574b",
   "metadata": {},
   "outputs": [],
   "source": [
    "df[\"Name\"] = df[\"Asset_ID\"].apply(lambda x: asset_details.loc[x][-1])"
   ]
  },
  {
   "cell_type": "code",
   "execution_count": 12,
   "id": "41716bc4",
   "metadata": {},
   "outputs": [],
   "source": [
    "df = df.set_index(\"Name\").reset_index()"
   ]
  },
  {
   "cell_type": "code",
   "execution_count": 13,
   "id": "6accf3e5",
   "metadata": {},
   "outputs": [
    {
     "data": {
      "text/html": [
       "<div>\n",
       "<style scoped>\n",
       "    .dataframe tbody tr th:only-of-type {\n",
       "        vertical-align: middle;\n",
       "    }\n",
       "\n",
       "    .dataframe tbody tr th {\n",
       "        vertical-align: top;\n",
       "    }\n",
       "\n",
       "    .dataframe thead th {\n",
       "        text-align: right;\n",
       "    }\n",
       "</style>\n",
       "<table border=\"1\" class=\"dataframe\">\n",
       "  <thead>\n",
       "    <tr style=\"text-align: right;\">\n",
       "      <th></th>\n",
       "      <th>Name</th>\n",
       "      <th>timestamp</th>\n",
       "      <th>Asset_ID</th>\n",
       "      <th>Count</th>\n",
       "      <th>Open</th>\n",
       "      <th>High</th>\n",
       "      <th>Low</th>\n",
       "      <th>Close</th>\n",
       "      <th>Volume</th>\n",
       "      <th>VWAP</th>\n",
       "      <th>Target</th>\n",
       "    </tr>\n",
       "  </thead>\n",
       "  <tbody>\n",
       "    <tr>\n",
       "      <th>0</th>\n",
       "      <td>Bitcoin Cash</td>\n",
       "      <td>1514764860</td>\n",
       "      <td>2</td>\n",
       "      <td>40.0</td>\n",
       "      <td>2376.5800</td>\n",
       "      <td>2399.5000</td>\n",
       "      <td>2357.1400</td>\n",
       "      <td>2374.5900</td>\n",
       "      <td>19.233005</td>\n",
       "      <td>2373.116392</td>\n",
       "      <td>-0.004218</td>\n",
       "    </tr>\n",
       "    <tr>\n",
       "      <th>1</th>\n",
       "      <td>Binance Coin</td>\n",
       "      <td>1514764860</td>\n",
       "      <td>0</td>\n",
       "      <td>5.0</td>\n",
       "      <td>8.5300</td>\n",
       "      <td>8.5300</td>\n",
       "      <td>8.5300</td>\n",
       "      <td>8.5300</td>\n",
       "      <td>78.380000</td>\n",
       "      <td>8.530000</td>\n",
       "      <td>-0.014399</td>\n",
       "    </tr>\n",
       "    <tr>\n",
       "      <th>2</th>\n",
       "      <td>Bitcoin</td>\n",
       "      <td>1514764860</td>\n",
       "      <td>1</td>\n",
       "      <td>229.0</td>\n",
       "      <td>13835.1940</td>\n",
       "      <td>14013.8000</td>\n",
       "      <td>13666.1100</td>\n",
       "      <td>13850.1760</td>\n",
       "      <td>31.550062</td>\n",
       "      <td>13827.062093</td>\n",
       "      <td>-0.014643</td>\n",
       "    </tr>\n",
       "    <tr>\n",
       "      <th>3</th>\n",
       "      <td>EOS.IO</td>\n",
       "      <td>1514764860</td>\n",
       "      <td>5</td>\n",
       "      <td>32.0</td>\n",
       "      <td>7.6596</td>\n",
       "      <td>7.6596</td>\n",
       "      <td>7.6567</td>\n",
       "      <td>7.6576</td>\n",
       "      <td>6626.713370</td>\n",
       "      <td>7.657713</td>\n",
       "      <td>-0.013922</td>\n",
       "    </tr>\n",
       "    <tr>\n",
       "      <th>4</th>\n",
       "      <td>Ethereum Classic</td>\n",
       "      <td>1514764860</td>\n",
       "      <td>7</td>\n",
       "      <td>5.0</td>\n",
       "      <td>25.9200</td>\n",
       "      <td>25.9200</td>\n",
       "      <td>25.8740</td>\n",
       "      <td>25.8770</td>\n",
       "      <td>121.087310</td>\n",
       "      <td>25.891363</td>\n",
       "      <td>-0.008264</td>\n",
       "    </tr>\n",
       "  </tbody>\n",
       "</table>\n",
       "</div>"
      ],
      "text/plain": [
       "               Name   timestamp  Asset_ID  Count        Open        High  \\\n",
       "0      Bitcoin Cash  1514764860         2   40.0   2376.5800   2399.5000   \n",
       "1      Binance Coin  1514764860         0    5.0      8.5300      8.5300   \n",
       "2           Bitcoin  1514764860         1  229.0  13835.1940  14013.8000   \n",
       "3            EOS.IO  1514764860         5   32.0      7.6596      7.6596   \n",
       "4  Ethereum Classic  1514764860         7    5.0     25.9200     25.9200   \n",
       "\n",
       "          Low       Close       Volume          VWAP    Target  \n",
       "0   2357.1400   2374.5900    19.233005   2373.116392 -0.004218  \n",
       "1      8.5300      8.5300    78.380000      8.530000 -0.014399  \n",
       "2  13666.1100  13850.1760    31.550062  13827.062093 -0.014643  \n",
       "3      7.6567      7.6576  6626.713370      7.657713 -0.013922  \n",
       "4     25.8740     25.8770   121.087310     25.891363 -0.008264  "
      ]
     },
     "execution_count": 13,
     "metadata": {},
     "output_type": "execute_result"
    }
   ],
   "source": [
    "df.head()"
   ]
  },
  {
   "cell_type": "markdown",
   "id": "0cdb496c",
   "metadata": {},
   "source": [
    "* ### Анализ недостающих элементов в Target"
   ]
  },
  {
   "cell_type": "code",
   "execution_count": 14,
   "id": "84b314b3",
   "metadata": {},
   "outputs": [
    {
     "data": {
      "text/plain": [
       "Monero              1221\n",
       "EOS.IO               796\n",
       "Ethereum Classic     215\n",
       "Binance Coin         164\n",
       "Name: Name, dtype: int64"
      ]
     },
     "execution_count": 14,
     "metadata": {},
     "output_type": "execute_result"
    }
   ],
   "source": [
    "#Посмотрим, какие криптовалюты и сколько не имеют Target\n",
    "df[df[\"Target\"].isnull()][\"Name\"].value_counts()"
   ]
  },
  {
   "cell_type": "code",
   "execution_count": 15,
   "id": "02dffb70",
   "metadata": {},
   "outputs": [
    {
     "name": "stdout",
     "output_type": "stream",
     "text": [
      "Количество NAN у криптовалюты Monero: 1221 из 11947\n",
      "В процентном соотношении: 10.22%\n",
      "\n",
      "Количество NAN у криптовалюты EOS.IO: 796 из 12230\n",
      "В процентном соотношении: 6.51%\n",
      "\n",
      "Количество NAN у криптовалюты Ethereum Classic: 215 из 12579\n",
      "В процентном соотношении: 1.71%\n",
      "\n",
      "Количество NAN у криптовалюты Binance Coin: 164 из 12485\n",
      "В процентном соотношении: 1.31%\n",
      "\n"
     ]
    }
   ],
   "source": [
    "null_names = dict(df[df[\"Target\"].isnull()][\"Name\"].value_counts())\n",
    "for name, count in null_names.items():\n",
    "    name_full_count = df[df[\"Name\"] == name][\"Name\"].value_counts()[-1]\n",
    "    print(f\"Количество NAN у криптовалюты {name}: {count} из {name_full_count}\")\n",
    "    print(f\"В процентном соотношении: {round(count / name_full_count * 100, 2)}%\")\n",
    "    print()"
   ]
  },
  {
   "cell_type": "markdown",
   "id": "8e0a800a",
   "metadata": {},
   "source": [
    "* ### Удаление строк с недостающими элементами в Target"
   ]
  },
  {
   "cell_type": "code",
   "execution_count": 16,
   "id": "e58d9470",
   "metadata": {},
   "outputs": [],
   "source": [
    "df_without_null = df.drop(df[df[\"Target\"].isnull()][\"Name\"].keys(), axis=0)"
   ]
  },
  {
   "cell_type": "code",
   "execution_count": 17,
   "id": "15b5d557",
   "metadata": {},
   "outputs": [
    {
     "name": "stdout",
     "output_type": "stream",
     "text": [
      "<class 'pandas.core.frame.DataFrame'>\n",
      "Int64Index: 97604 entries, 0 to 99999\n",
      "Data columns (total 11 columns):\n",
      " #   Column     Non-Null Count  Dtype  \n",
      "---  ------     --------------  -----  \n",
      " 0   Name       97604 non-null  object \n",
      " 1   timestamp  97604 non-null  int64  \n",
      " 2   Asset_ID   97604 non-null  int64  \n",
      " 3   Count      97604 non-null  float64\n",
      " 4   Open       97604 non-null  float64\n",
      " 5   High       97604 non-null  float64\n",
      " 6   Low        97604 non-null  float64\n",
      " 7   Close      97604 non-null  float64\n",
      " 8   Volume     97604 non-null  float64\n",
      " 9   VWAP       97604 non-null  float64\n",
      " 10  Target     97604 non-null  float64\n",
      "dtypes: float64(8), int64(2), object(1)\n",
      "memory usage: 8.9+ MB\n"
     ]
    }
   ],
   "source": [
    "df_without_null.info()"
   ]
  },
  {
   "cell_type": "code",
   "execution_count": 18,
   "id": "fdb4067d",
   "metadata": {},
   "outputs": [
    {
     "data": {
      "text/html": [
       "<div>\n",
       "<style scoped>\n",
       "    .dataframe tbody tr th:only-of-type {\n",
       "        vertical-align: middle;\n",
       "    }\n",
       "\n",
       "    .dataframe tbody tr th {\n",
       "        vertical-align: top;\n",
       "    }\n",
       "\n",
       "    .dataframe thead th {\n",
       "        text-align: right;\n",
       "    }\n",
       "</style>\n",
       "<table border=\"1\" class=\"dataframe\">\n",
       "  <thead>\n",
       "    <tr style=\"text-align: right;\">\n",
       "      <th></th>\n",
       "      <th>Name</th>\n",
       "      <th>timestamp</th>\n",
       "      <th>Asset_ID</th>\n",
       "      <th>Count</th>\n",
       "      <th>Open</th>\n",
       "      <th>High</th>\n",
       "      <th>Low</th>\n",
       "      <th>Close</th>\n",
       "      <th>Volume</th>\n",
       "      <th>VWAP</th>\n",
       "      <th>Target</th>\n",
       "    </tr>\n",
       "  </thead>\n",
       "  <tbody>\n",
       "    <tr>\n",
       "      <th>0</th>\n",
       "      <td>Bitcoin Cash</td>\n",
       "      <td>1514764860</td>\n",
       "      <td>2</td>\n",
       "      <td>40.0</td>\n",
       "      <td>2376.580000</td>\n",
       "      <td>2399.5000</td>\n",
       "      <td>2357.1400</td>\n",
       "      <td>2374.590000</td>\n",
       "      <td>19.233005</td>\n",
       "      <td>2373.116392</td>\n",
       "      <td>-0.004218</td>\n",
       "    </tr>\n",
       "    <tr>\n",
       "      <th>1</th>\n",
       "      <td>Binance Coin</td>\n",
       "      <td>1514764860</td>\n",
       "      <td>0</td>\n",
       "      <td>5.0</td>\n",
       "      <td>8.530000</td>\n",
       "      <td>8.5300</td>\n",
       "      <td>8.5300</td>\n",
       "      <td>8.530000</td>\n",
       "      <td>78.380000</td>\n",
       "      <td>8.530000</td>\n",
       "      <td>-0.014399</td>\n",
       "    </tr>\n",
       "    <tr>\n",
       "      <th>2</th>\n",
       "      <td>Bitcoin</td>\n",
       "      <td>1514764860</td>\n",
       "      <td>1</td>\n",
       "      <td>229.0</td>\n",
       "      <td>13835.194000</td>\n",
       "      <td>14013.8000</td>\n",
       "      <td>13666.1100</td>\n",
       "      <td>13850.176000</td>\n",
       "      <td>31.550062</td>\n",
       "      <td>13827.062093</td>\n",
       "      <td>-0.014643</td>\n",
       "    </tr>\n",
       "    <tr>\n",
       "      <th>3</th>\n",
       "      <td>EOS.IO</td>\n",
       "      <td>1514764860</td>\n",
       "      <td>5</td>\n",
       "      <td>32.0</td>\n",
       "      <td>7.659600</td>\n",
       "      <td>7.6596</td>\n",
       "      <td>7.6567</td>\n",
       "      <td>7.657600</td>\n",
       "      <td>6626.713370</td>\n",
       "      <td>7.657713</td>\n",
       "      <td>-0.013922</td>\n",
       "    </tr>\n",
       "    <tr>\n",
       "      <th>4</th>\n",
       "      <td>Ethereum Classic</td>\n",
       "      <td>1514764860</td>\n",
       "      <td>7</td>\n",
       "      <td>5.0</td>\n",
       "      <td>25.920000</td>\n",
       "      <td>25.9200</td>\n",
       "      <td>25.8740</td>\n",
       "      <td>25.877000</td>\n",
       "      <td>121.087310</td>\n",
       "      <td>25.891363</td>\n",
       "      <td>-0.008264</td>\n",
       "    </tr>\n",
       "    <tr>\n",
       "      <th>5</th>\n",
       "      <td>Ethereum</td>\n",
       "      <td>1514764860</td>\n",
       "      <td>6</td>\n",
       "      <td>173.0</td>\n",
       "      <td>738.302500</td>\n",
       "      <td>746.0000</td>\n",
       "      <td>732.5100</td>\n",
       "      <td>738.507500</td>\n",
       "      <td>335.987856</td>\n",
       "      <td>738.839291</td>\n",
       "      <td>-0.004809</td>\n",
       "    </tr>\n",
       "    <tr>\n",
       "      <th>6</th>\n",
       "      <td>Litecoin</td>\n",
       "      <td>1514764860</td>\n",
       "      <td>9</td>\n",
       "      <td>167.0</td>\n",
       "      <td>225.330000</td>\n",
       "      <td>227.7800</td>\n",
       "      <td>222.9800</td>\n",
       "      <td>225.206667</td>\n",
       "      <td>411.896642</td>\n",
       "      <td>225.197944</td>\n",
       "      <td>-0.009791</td>\n",
       "    </tr>\n",
       "    <tr>\n",
       "      <th>8</th>\n",
       "      <td>Bitcoin Cash</td>\n",
       "      <td>1514764920</td>\n",
       "      <td>2</td>\n",
       "      <td>53.0</td>\n",
       "      <td>2374.553333</td>\n",
       "      <td>2400.9000</td>\n",
       "      <td>2354.2000</td>\n",
       "      <td>2372.286667</td>\n",
       "      <td>24.050259</td>\n",
       "      <td>2371.434498</td>\n",
       "      <td>-0.004079</td>\n",
       "    </tr>\n",
       "    <tr>\n",
       "      <th>9</th>\n",
       "      <td>Binance Coin</td>\n",
       "      <td>1514764920</td>\n",
       "      <td>0</td>\n",
       "      <td>7.0</td>\n",
       "      <td>8.530000</td>\n",
       "      <td>8.5300</td>\n",
       "      <td>8.5145</td>\n",
       "      <td>8.514500</td>\n",
       "      <td>71.390000</td>\n",
       "      <td>8.520215</td>\n",
       "      <td>-0.015875</td>\n",
       "    </tr>\n",
       "    <tr>\n",
       "      <th>10</th>\n",
       "      <td>Bitcoin</td>\n",
       "      <td>1514764920</td>\n",
       "      <td>1</td>\n",
       "      <td>235.0</td>\n",
       "      <td>13835.036000</td>\n",
       "      <td>14052.3000</td>\n",
       "      <td>13680.0000</td>\n",
       "      <td>13828.102000</td>\n",
       "      <td>31.046432</td>\n",
       "      <td>13840.362591</td>\n",
       "      <td>-0.015037</td>\n",
       "    </tr>\n",
       "  </tbody>\n",
       "</table>\n",
       "</div>"
      ],
      "text/plain": [
       "                Name   timestamp  Asset_ID  Count          Open        High  \\\n",
       "0       Bitcoin Cash  1514764860         2   40.0   2376.580000   2399.5000   \n",
       "1       Binance Coin  1514764860         0    5.0      8.530000      8.5300   \n",
       "2            Bitcoin  1514764860         1  229.0  13835.194000  14013.8000   \n",
       "3             EOS.IO  1514764860         5   32.0      7.659600      7.6596   \n",
       "4   Ethereum Classic  1514764860         7    5.0     25.920000     25.9200   \n",
       "5           Ethereum  1514764860         6  173.0    738.302500    746.0000   \n",
       "6           Litecoin  1514764860         9  167.0    225.330000    227.7800   \n",
       "8       Bitcoin Cash  1514764920         2   53.0   2374.553333   2400.9000   \n",
       "9       Binance Coin  1514764920         0    7.0      8.530000      8.5300   \n",
       "10           Bitcoin  1514764920         1  235.0  13835.036000  14052.3000   \n",
       "\n",
       "           Low         Close       Volume          VWAP    Target  \n",
       "0    2357.1400   2374.590000    19.233005   2373.116392 -0.004218  \n",
       "1       8.5300      8.530000    78.380000      8.530000 -0.014399  \n",
       "2   13666.1100  13850.176000    31.550062  13827.062093 -0.014643  \n",
       "3       7.6567      7.657600  6626.713370      7.657713 -0.013922  \n",
       "4      25.8740     25.877000   121.087310     25.891363 -0.008264  \n",
       "5     732.5100    738.507500   335.987856    738.839291 -0.004809  \n",
       "6     222.9800    225.206667   411.896642    225.197944 -0.009791  \n",
       "8    2354.2000   2372.286667    24.050259   2371.434498 -0.004079  \n",
       "9       8.5145      8.514500    71.390000      8.520215 -0.015875  \n",
       "10  13680.0000  13828.102000    31.046432  13840.362591 -0.015037  "
      ]
     },
     "execution_count": 18,
     "metadata": {},
     "output_type": "execute_result"
    }
   ],
   "source": [
    "df_without_null.head(10)"
   ]
  },
  {
   "cell_type": "markdown",
   "id": "5a87a01b",
   "metadata": {},
   "source": [
    "* ### Визуализация данных"
   ]
  },
  {
   "cell_type": "code",
   "execution_count": 19,
   "id": "e0bce94f",
   "metadata": {
    "scrolled": false
   },
   "outputs": [
    {
     "data": {
      "text/plain": [
       "<AxesSubplot:xlabel='timestamp', ylabel='Open'>"
      ]
     },
     "execution_count": 19,
     "metadata": {},
     "output_type": "execute_result"
    },
    {
     "data": {
      "image/png": "[encoded data removed]",
      "text/plain": [
       "<Figure size 1080x504 with 1 Axes>"
      ]
     },
     "metadata": {
      "needs_background": "light"
     },
     "output_type": "display_data"
    }
   ],
   "source": [
    "#Например, график цены Bitcoin на открытии\n",
    "plt.figure(figsize=(15, 7))\n",
    "sns.lineplot(x=df[df[\"Name\"] == \"Bitcoin\"][\"timestamp\"], y=df[df[\"Name\"] == \"Bitcoin\"][\"Open\"])"
   ]
  },
  {
   "cell_type": "code",
   "execution_count": 20,
   "id": "c386cf72",
   "metadata": {},
   "outputs": [
    {
     "data": {
      "text/plain": [
       "<AxesSubplot:xlabel='timestamp', ylabel='Open'>"
      ]
     },
     "execution_count": 20,
     "metadata": {},
     "output_type": "execute_result"
    },
    {
     "data": {
      "image/png": "[encoded data removed]",
      "text/plain": [
       "<Figure size 1080x504 with 1 Axes>"
      ]
     },
     "metadata": {
      "needs_background": "light"
     },
     "output_type": "display_data"
    }
   ],
   "source": [
    "#Например, график цены Monero на открытии\n",
    "plt.figure(figsize=(15, 7))\n",
    "sns.lineplot(x=df[df[\"Name\"] == \"Monero\"][\"timestamp\"], y=df[df[\"Name\"] == \"Monero\"][\"Open\"])"
   ]
  },
  {
   "cell_type": "markdown",
   "id": "9ecfaa10",
   "metadata": {},
   "source": [
    "Посмотрим график кореляции"
   ]
  },
  {
   "cell_type": "code",
   "execution_count": 21,
   "id": "1166b4ab",
   "metadata": {},
   "outputs": [
    {
     "data": {
      "text/plain": [
       "<AxesSubplot:>"
      ]
     },
     "execution_count": 21,
     "metadata": {},
     "output_type": "execute_result"
    },
    {
     "data": {
      "image/png": "[encoded data removed]",
      "text/plain": [
       "<Figure size 1080x432 with 1 Axes>"
      ]
     },
     "metadata": {
      "needs_background": "light"
     },
     "output_type": "display_data"
    }
   ],
   "source": [
    "#Посмотрим, какие фичи коррелируют с Target\n",
    "df_without_null.drop([\"timestamp\", \"Asset_ID\"], axis=1).corr()[\"Target\"].sort_values().plot(kind=\"bar\", figsize=(15, 6))"
   ]
  },
  {
   "cell_type": "markdown",
   "id": "a81759a8",
   "metadata": {},
   "source": [
    "## Part 3: Data Wrangling and Transformation"
   ]
  },
  {
   "cell_type": "markdown",
   "id": "020b8dbe",
   "metadata": {},
   "source": [
    "* ### Bitcoin dataset"
   ]
  },
  {
   "cell_type": "code",
   "execution_count": 22,
   "id": "12cd9882",
   "metadata": {},
   "outputs": [],
   "source": [
    "btc = df_without_null[df_without_null[\"Name\"] == \"Bitcoin\"]"
   ]
  },
  {
   "cell_type": "code",
   "execution_count": 23,
   "id": "6c35e096",
   "metadata": {},
   "outputs": [
    {
     "data": {
      "text/html": [
       "<div>\n",
       "<style scoped>\n",
       "    .dataframe tbody tr th:only-of-type {\n",
       "        vertical-align: middle;\n",
       "    }\n",
       "\n",
       "    .dataframe tbody tr th {\n",
       "        vertical-align: top;\n",
       "    }\n",
       "\n",
       "    .dataframe thead th {\n",
       "        text-align: right;\n",
       "    }\n",
       "</style>\n",
       "<table border=\"1\" class=\"dataframe\">\n",
       "  <thead>\n",
       "    <tr style=\"text-align: right;\">\n",
       "      <th></th>\n",
       "      <th>Name</th>\n",
       "      <th>timestamp</th>\n",
       "      <th>Asset_ID</th>\n",
       "      <th>Count</th>\n",
       "      <th>Open</th>\n",
       "      <th>High</th>\n",
       "      <th>Low</th>\n",
       "      <th>Close</th>\n",
       "      <th>Volume</th>\n",
       "      <th>VWAP</th>\n",
       "      <th>Target</th>\n",
       "    </tr>\n",
       "  </thead>\n",
       "  <tbody>\n",
       "    <tr>\n",
       "      <th>2</th>\n",
       "      <td>Bitcoin</td>\n",
       "      <td>1514764860</td>\n",
       "      <td>1</td>\n",
       "      <td>229.0</td>\n",
       "      <td>13835.194000</td>\n",
       "      <td>14013.8</td>\n",
       "      <td>13666.11</td>\n",
       "      <td>13850.176</td>\n",
       "      <td>31.550062</td>\n",
       "      <td>13827.062093</td>\n",
       "      <td>-0.014643</td>\n",
       "    </tr>\n",
       "    <tr>\n",
       "      <th>10</th>\n",
       "      <td>Bitcoin</td>\n",
       "      <td>1514764920</td>\n",
       "      <td>1</td>\n",
       "      <td>235.0</td>\n",
       "      <td>13835.036000</td>\n",
       "      <td>14052.3</td>\n",
       "      <td>13680.00</td>\n",
       "      <td>13828.102</td>\n",
       "      <td>31.046432</td>\n",
       "      <td>13840.362591</td>\n",
       "      <td>-0.015037</td>\n",
       "    </tr>\n",
       "    <tr>\n",
       "      <th>18</th>\n",
       "      <td>Bitcoin</td>\n",
       "      <td>1514764980</td>\n",
       "      <td>1</td>\n",
       "      <td>528.0</td>\n",
       "      <td>13823.900000</td>\n",
       "      <td>14000.4</td>\n",
       "      <td>13601.00</td>\n",
       "      <td>13801.314</td>\n",
       "      <td>55.061820</td>\n",
       "      <td>13806.068014</td>\n",
       "      <td>-0.010309</td>\n",
       "    </tr>\n",
       "    <tr>\n",
       "      <th>26</th>\n",
       "      <td>Bitcoin</td>\n",
       "      <td>1514765040</td>\n",
       "      <td>1</td>\n",
       "      <td>435.0</td>\n",
       "      <td>13802.512000</td>\n",
       "      <td>13999.0</td>\n",
       "      <td>13576.28</td>\n",
       "      <td>13768.040</td>\n",
       "      <td>38.780529</td>\n",
       "      <td>13783.598101</td>\n",
       "      <td>-0.008999</td>\n",
       "    </tr>\n",
       "    <tr>\n",
       "      <th>34</th>\n",
       "      <td>Bitcoin</td>\n",
       "      <td>1514765100</td>\n",
       "      <td>1</td>\n",
       "      <td>742.0</td>\n",
       "      <td>13766.000000</td>\n",
       "      <td>13955.9</td>\n",
       "      <td>13554.44</td>\n",
       "      <td>13724.914</td>\n",
       "      <td>108.501637</td>\n",
       "      <td>13735.586842</td>\n",
       "      <td>-0.008079</td>\n",
       "    </tr>\n",
       "    <tr>\n",
       "      <th>...</th>\n",
       "      <td>...</td>\n",
       "      <td>...</td>\n",
       "      <td>...</td>\n",
       "      <td>...</td>\n",
       "      <td>...</td>\n",
       "      <td>...</td>\n",
       "      <td>...</td>\n",
       "      <td>...</td>\n",
       "      <td>...</td>\n",
       "      <td>...</td>\n",
       "      <td>...</td>\n",
       "    </tr>\n",
       "    <tr>\n",
       "      <th>99965</th>\n",
       "      <td>Bitcoin</td>\n",
       "      <td>1515525960</td>\n",
       "      <td>1</td>\n",
       "      <td>314.0</td>\n",
       "      <td>14814.546000</td>\n",
       "      <td>14904.2</td>\n",
       "      <td>14766.50</td>\n",
       "      <td>14836.802</td>\n",
       "      <td>60.239374</td>\n",
       "      <td>14832.828157</td>\n",
       "      <td>-0.003728</td>\n",
       "    </tr>\n",
       "    <tr>\n",
       "      <th>99973</th>\n",
       "      <td>Bitcoin</td>\n",
       "      <td>1515526020</td>\n",
       "      <td>1</td>\n",
       "      <td>251.0</td>\n",
       "      <td>14849.204000</td>\n",
       "      <td>14900.0</td>\n",
       "      <td>14748.85</td>\n",
       "      <td>14817.212</td>\n",
       "      <td>35.548938</td>\n",
       "      <td>14838.272661</td>\n",
       "      <td>-0.003222</td>\n",
       "    </tr>\n",
       "    <tr>\n",
       "      <th>99981</th>\n",
       "      <td>Bitcoin</td>\n",
       "      <td>1515526080</td>\n",
       "      <td>1</td>\n",
       "      <td>252.0</td>\n",
       "      <td>14827.688000</td>\n",
       "      <td>14899.9</td>\n",
       "      <td>14733.01</td>\n",
       "      <td>14818.494</td>\n",
       "      <td>27.565916</td>\n",
       "      <td>14812.488310</td>\n",
       "      <td>-0.003520</td>\n",
       "    </tr>\n",
       "    <tr>\n",
       "      <th>99988</th>\n",
       "      <td>Bitcoin</td>\n",
       "      <td>1515526140</td>\n",
       "      <td>1</td>\n",
       "      <td>213.0</td>\n",
       "      <td>14825.718479</td>\n",
       "      <td>14897.8</td>\n",
       "      <td>14701.00</td>\n",
       "      <td>14828.360</td>\n",
       "      <td>28.433972</td>\n",
       "      <td>14820.262771</td>\n",
       "      <td>-0.003498</td>\n",
       "    </tr>\n",
       "    <tr>\n",
       "      <th>99996</th>\n",
       "      <td>Bitcoin</td>\n",
       "      <td>1515526200</td>\n",
       "      <td>1</td>\n",
       "      <td>194.0</td>\n",
       "      <td>14839.762000</td>\n",
       "      <td>14897.8</td>\n",
       "      <td>14745.16</td>\n",
       "      <td>14829.300</td>\n",
       "      <td>19.336531</td>\n",
       "      <td>14830.804491</td>\n",
       "      <td>-0.002134</td>\n",
       "    </tr>\n",
       "  </tbody>\n",
       "</table>\n",
       "<p>12690 rows × 11 columns</p>\n",
       "</div>"
      ],
      "text/plain": [
       "          Name   timestamp  Asset_ID  Count          Open     High       Low  \\\n",
       "2      Bitcoin  1514764860         1  229.0  13835.194000  14013.8  13666.11   \n",
       "10     Bitcoin  1514764920         1  235.0  13835.036000  14052.3  13680.00   \n",
       "18     Bitcoin  1514764980         1  528.0  13823.900000  14000.4  13601.00   \n",
       "26     Bitcoin  1514765040         1  435.0  13802.512000  13999.0  13576.28   \n",
       "34     Bitcoin  1514765100         1  742.0  13766.000000  13955.9  13554.44   \n",
       "...        ...         ...       ...    ...           ...      ...       ...   \n",
       "99965  Bitcoin  1515525960         1  314.0  14814.546000  14904.2  14766.50   \n",
       "99973  Bitcoin  1515526020         1  251.0  14849.204000  14900.0  14748.85   \n",
       "99981  Bitcoin  1515526080         1  252.0  14827.688000  14899.9  14733.01   \n",
       "99988  Bitcoin  1515526140         1  213.0  14825.718479  14897.8  14701.00   \n",
       "99996  Bitcoin  1515526200         1  194.0  14839.762000  14897.8  14745.16   \n",
       "\n",
       "           Close      Volume          VWAP    Target  \n",
       "2      13850.176   31.550062  13827.062093 -0.014643  \n",
       "10     13828.102   31.046432  13840.362591 -0.015037  \n",
       "18     13801.314   55.061820  13806.068014 -0.010309  \n",
       "26     13768.040   38.780529  13783.598101 -0.008999  \n",
       "34     13724.914  108.501637  13735.586842 -0.008079  \n",
       "...          ...         ...           ...       ...  \n",
       "99965  14836.802   60.239374  14832.828157 -0.003728  \n",
       "99973  14817.212   35.548938  14838.272661 -0.003222  \n",
       "99981  14818.494   27.565916  14812.488310 -0.003520  \n",
       "99988  14828.360   28.433972  14820.262771 -0.003498  \n",
       "99996  14829.300   19.336531  14830.804491 -0.002134  \n",
       "\n",
       "[12690 rows x 11 columns]"
      ]
     },
     "execution_count": 23,
     "metadata": {},
     "output_type": "execute_result"
    }
   ],
   "source": [
    "btc"
   ]
  },
  {
   "cell_type": "markdown",
   "id": "b6ce4d72",
   "metadata": {},
   "source": [
    "* ### StandardScaler"
   ]
  },
  {
   "cell_type": "code",
   "execution_count": 24,
   "id": "243a6840",
   "metadata": {},
   "outputs": [],
   "source": [
    "features = df_without_null.drop([\"timestamp\", \"Asset_ID\", \"Count\", \"Name\", \"Target\"], axis=1).columns"
   ]
  },
  {
   "cell_type": "code",
   "execution_count": 25,
   "id": "73d8bbfa",
   "metadata": {},
   "outputs": [
    {
     "data": {
      "text/plain": [
       "Index(['Open', 'High', 'Low', 'Close', 'Volume', 'VWAP'], dtype='object')"
      ]
     },
     "execution_count": 25,
     "metadata": {},
     "output_type": "execute_result"
    }
   ],
   "source": [
    "features"
   ]
  },
  {
   "cell_type": "code",
   "execution_count": 26,
   "id": "18fab2d5",
   "metadata": {},
   "outputs": [],
   "source": [
    "sc = StandardScaler()\n",
    "df_without_null_scaled = sc.fit_transform(df_without_null.drop([\"timestamp\", \"Asset_ID\", \"Count\", \"Name\", \"Target\"], axis=1))"
   ]
  },
  {
   "cell_type": "code",
   "execution_count": 27,
   "id": "018ed869",
   "metadata": {},
   "outputs": [],
   "source": [
    "df_without_null_scaled = pd.DataFrame(df_without_null_scaled, columns=features)"
   ]
  },
  {
   "cell_type": "code",
   "execution_count": 28,
   "id": "a27c8a48",
   "metadata": {},
   "outputs": [],
   "source": [
    "df_without_null_scaled[\"Target\"] = list(df_without_null[\"Target\"])"
   ]
  },
  {
   "cell_type": "code",
   "execution_count": 29,
   "id": "3a49f9c1",
   "metadata": {},
   "outputs": [
    {
     "data": {
      "text/html": [
       "<div>\n",
       "<style scoped>\n",
       "    .dataframe tbody tr th:only-of-type {\n",
       "        vertical-align: middle;\n",
       "    }\n",
       "\n",
       "    .dataframe tbody tr th {\n",
       "        vertical-align: top;\n",
       "    }\n",
       "\n",
       "    .dataframe thead th {\n",
       "        text-align: right;\n",
       "    }\n",
       "</style>\n",
       "<table border=\"1\" class=\"dataframe\">\n",
       "  <thead>\n",
       "    <tr style=\"text-align: right;\">\n",
       "      <th></th>\n",
       "      <th>Open</th>\n",
       "      <th>High</th>\n",
       "      <th>Low</th>\n",
       "      <th>Close</th>\n",
       "      <th>Volume</th>\n",
       "      <th>VWAP</th>\n",
       "      <th>Target</th>\n",
       "    </tr>\n",
       "  </thead>\n",
       "  <tbody>\n",
       "    <tr>\n",
       "      <th>0</th>\n",
       "      <td>-0.024067</td>\n",
       "      <td>-0.022942</td>\n",
       "      <td>-0.024679</td>\n",
       "      <td>-0.024478</td>\n",
       "      <td>-0.283093</td>\n",
       "      <td>-0.024759</td>\n",
       "      <td>-0.004218</td>\n",
       "    </tr>\n",
       "    <tr>\n",
       "      <th>1</th>\n",
       "      <td>-0.500484</td>\n",
       "      <td>-0.500412</td>\n",
       "      <td>-0.500508</td>\n",
       "      <td>-0.500482</td>\n",
       "      <td>-0.260371</td>\n",
       "      <td>-0.500483</td>\n",
       "      <td>-0.014399</td>\n",
       "    </tr>\n",
       "    <tr>\n",
       "      <th>2</th>\n",
       "      <td>2.281239</td>\n",
       "      <td>2.296402</td>\n",
       "      <td>2.266521</td>\n",
       "      <td>2.284183</td>\n",
       "      <td>-0.278361</td>\n",
       "      <td>2.279630</td>\n",
       "      <td>-0.014643</td>\n",
       "    </tr>\n",
       "    <tr>\n",
       "      <th>3</th>\n",
       "      <td>-0.500659</td>\n",
       "      <td>-0.500586</td>\n",
       "      <td>-0.500685</td>\n",
       "      <td>-0.500658</td>\n",
       "      <td>2.255234</td>\n",
       "      <td>-0.500659</td>\n",
       "      <td>-0.013922</td>\n",
       "    </tr>\n",
       "    <tr>\n",
       "      <th>4</th>\n",
       "      <td>-0.496986</td>\n",
       "      <td>-0.496939</td>\n",
       "      <td>-0.496994</td>\n",
       "      <td>-0.496992</td>\n",
       "      <td>-0.243965</td>\n",
       "      <td>-0.496990</td>\n",
       "      <td>-0.008264</td>\n",
       "    </tr>\n",
       "    <tr>\n",
       "      <th>...</th>\n",
       "      <td>...</td>\n",
       "      <td>...</td>\n",
       "      <td>...</td>\n",
       "      <td>...</td>\n",
       "      <td>...</td>\n",
       "      <td>...</td>\n",
       "      <td>...</td>\n",
       "    </tr>\n",
       "    <tr>\n",
       "      <th>97599</th>\n",
       "      <td>-0.498688</td>\n",
       "      <td>-0.498613</td>\n",
       "      <td>-0.498699</td>\n",
       "      <td>-0.498672</td>\n",
       "      <td>-0.267685</td>\n",
       "      <td>-0.498678</td>\n",
       "      <td>-0.002602</td>\n",
       "    </tr>\n",
       "    <tr>\n",
       "      <th>97600</th>\n",
       "      <td>2.483343</td>\n",
       "      <td>2.472935</td>\n",
       "      <td>2.485137</td>\n",
       "      <td>2.481164</td>\n",
       "      <td>-0.283053</td>\n",
       "      <td>2.481570</td>\n",
       "      <td>-0.002134</td>\n",
       "    </tr>\n",
       "    <tr>\n",
       "      <th>97601</th>\n",
       "      <td>-0.500328</td>\n",
       "      <td>-0.500257</td>\n",
       "      <td>-0.500350</td>\n",
       "      <td>-0.500326</td>\n",
       "      <td>-0.265686</td>\n",
       "      <td>-0.500327</td>\n",
       "      <td>-0.005362</td>\n",
       "    </tr>\n",
       "    <tr>\n",
       "      <th>97602</th>\n",
       "      <td>-0.495307</td>\n",
       "      <td>-0.495272</td>\n",
       "      <td>-0.495307</td>\n",
       "      <td>-0.495318</td>\n",
       "      <td>-0.175423</td>\n",
       "      <td>-0.495306</td>\n",
       "      <td>0.001431</td>\n",
       "    </tr>\n",
       "    <tr>\n",
       "      <th>97603</th>\n",
       "      <td>-0.259406</td>\n",
       "      <td>-0.260683</td>\n",
       "      <td>-0.258670</td>\n",
       "      <td>-0.259389</td>\n",
       "      <td>-0.209794</td>\n",
       "      <td>-0.259409</td>\n",
       "      <td>0.002114</td>\n",
       "    </tr>\n",
       "  </tbody>\n",
       "</table>\n",
       "<p>97604 rows × 7 columns</p>\n",
       "</div>"
      ],
      "text/plain": [
       "           Open      High       Low     Close    Volume      VWAP    Target\n",
       "0     -0.024067 -0.022942 -0.024679 -0.024478 -0.283093 -0.024759 -0.004218\n",
       "1     -0.500484 -0.500412 -0.500508 -0.500482 -0.260371 -0.500483 -0.014399\n",
       "2      2.281239  2.296402  2.266521  2.284183 -0.278361  2.279630 -0.014643\n",
       "3     -0.500659 -0.500586 -0.500685 -0.500658  2.255234 -0.500659 -0.013922\n",
       "4     -0.496986 -0.496939 -0.496994 -0.496992 -0.243965 -0.496990 -0.008264\n",
       "...         ...       ...       ...       ...       ...       ...       ...\n",
       "97599 -0.498688 -0.498613 -0.498699 -0.498672 -0.267685 -0.498678 -0.002602\n",
       "97600  2.483343  2.472935  2.485137  2.481164 -0.283053  2.481570 -0.002134\n",
       "97601 -0.500328 -0.500257 -0.500350 -0.500326 -0.265686 -0.500327 -0.005362\n",
       "97602 -0.495307 -0.495272 -0.495307 -0.495318 -0.175423 -0.495306  0.001431\n",
       "97603 -0.259406 -0.260683 -0.258670 -0.259389 -0.209794 -0.259409  0.002114\n",
       "\n",
       "[97604 rows x 7 columns]"
      ]
     },
     "execution_count": 29,
     "metadata": {},
     "output_type": "execute_result"
    }
   ],
   "source": [
    "df_without_null_scaled"
   ]
  },
  {
   "cell_type": "code",
   "execution_count": 30,
   "id": "7d5854a2",
   "metadata": {},
   "outputs": [
    {
     "name": "stdout",
     "output_type": "stream",
     "text": [
      "<class 'pandas.core.frame.DataFrame'>\n",
      "RangeIndex: 97604 entries, 0 to 97603\n",
      "Data columns (total 7 columns):\n",
      " #   Column  Non-Null Count  Dtype  \n",
      "---  ------  --------------  -----  \n",
      " 0   Open    97604 non-null  float64\n",
      " 1   High    97604 non-null  float64\n",
      " 2   Low     97604 non-null  float64\n",
      " 3   Close   97604 non-null  float64\n",
      " 4   Volume  97604 non-null  float64\n",
      " 5   VWAP    97604 non-null  float64\n",
      " 6   Target  97604 non-null  float64\n",
      "dtypes: float64(7)\n",
      "memory usage: 5.2 MB\n"
     ]
    }
   ],
   "source": [
    "df_without_null_scaled.info()"
   ]
  },
  {
   "cell_type": "markdown",
   "id": "be2da735",
   "metadata": {},
   "source": [
    "Проделаем тоже самое с датасетом Bitcoin"
   ]
  },
  {
   "cell_type": "code",
   "execution_count": 31,
   "id": "0b5b4549",
   "metadata": {},
   "outputs": [],
   "source": [
    "btc_scaled = sc.fit_transform(btc.drop([\"timestamp\", \"Asset_ID\", \"Count\", \"Name\", \"Target\"], axis=1))"
   ]
  },
  {
   "cell_type": "code",
   "execution_count": 32,
   "id": "81b53c88",
   "metadata": {},
   "outputs": [],
   "source": [
    "btc_scaled = pd.DataFrame(btc_scaled, columns=features)"
   ]
  },
  {
   "cell_type": "code",
   "execution_count": 33,
   "id": "bbbff1f8",
   "metadata": {},
   "outputs": [],
   "source": [
    "btc_scaled[\"Target\"] = list(btc[\"Target\"])"
   ]
  },
  {
   "cell_type": "code",
   "execution_count": 34,
   "id": "54270ac6",
   "metadata": {},
   "outputs": [
    {
     "data": {
      "text/html": [
       "<div>\n",
       "<style scoped>\n",
       "    .dataframe tbody tr th:only-of-type {\n",
       "        vertical-align: middle;\n",
       "    }\n",
       "\n",
       "    .dataframe tbody tr th {\n",
       "        vertical-align: top;\n",
       "    }\n",
       "\n",
       "    .dataframe thead th {\n",
       "        text-align: right;\n",
       "    }\n",
       "</style>\n",
       "<table border=\"1\" class=\"dataframe\">\n",
       "  <thead>\n",
       "    <tr style=\"text-align: right;\">\n",
       "      <th></th>\n",
       "      <th>Open</th>\n",
       "      <th>High</th>\n",
       "      <th>Low</th>\n",
       "      <th>Close</th>\n",
       "      <th>Volume</th>\n",
       "      <th>VWAP</th>\n",
       "      <th>Target</th>\n",
       "    </tr>\n",
       "  </thead>\n",
       "  <tbody>\n",
       "    <tr>\n",
       "      <th>0</th>\n",
       "      <td>-1.193685</td>\n",
       "      <td>-1.174337</td>\n",
       "      <td>-1.228620</td>\n",
       "      <td>-1.180613</td>\n",
       "      <td>-0.636867</td>\n",
       "      <td>-1.200975</td>\n",
       "      <td>-0.014643</td>\n",
       "    </tr>\n",
       "    <tr>\n",
       "      <th>1</th>\n",
       "      <td>-1.193829</td>\n",
       "      <td>-1.138278</td>\n",
       "      <td>-1.216226</td>\n",
       "      <td>-1.200637</td>\n",
       "      <td>-0.647984</td>\n",
       "      <td>-1.188911</td>\n",
       "      <td>-0.015037</td>\n",
       "    </tr>\n",
       "    <tr>\n",
       "      <th>2</th>\n",
       "      <td>-1.203929</td>\n",
       "      <td>-1.186888</td>\n",
       "      <td>-1.286717</td>\n",
       "      <td>-1.224938</td>\n",
       "      <td>-0.117867</td>\n",
       "      <td>-1.220018</td>\n",
       "      <td>-0.010309</td>\n",
       "    </tr>\n",
       "    <tr>\n",
       "      <th>3</th>\n",
       "      <td>-1.223329</td>\n",
       "      <td>-1.188199</td>\n",
       "      <td>-1.308775</td>\n",
       "      <td>-1.255123</td>\n",
       "      <td>-0.477261</td>\n",
       "      <td>-1.240400</td>\n",
       "      <td>-0.008999</td>\n",
       "    </tr>\n",
       "    <tr>\n",
       "      <th>4</th>\n",
       "      <td>-1.256446</td>\n",
       "      <td>-1.228567</td>\n",
       "      <td>-1.328263</td>\n",
       "      <td>-1.294244</td>\n",
       "      <td>1.061768</td>\n",
       "      <td>-1.283949</td>\n",
       "      <td>-0.008079</td>\n",
       "    </tr>\n",
       "    <tr>\n",
       "      <th>...</th>\n",
       "      <td>...</td>\n",
       "      <td>...</td>\n",
       "      <td>...</td>\n",
       "      <td>...</td>\n",
       "      <td>...</td>\n",
       "      <td>...</td>\n",
       "      <td>...</td>\n",
       "    </tr>\n",
       "    <tr>\n",
       "      <th>12685</th>\n",
       "      <td>-0.305383</td>\n",
       "      <td>-0.340379</td>\n",
       "      <td>-0.246745</td>\n",
       "      <td>-0.285596</td>\n",
       "      <td>-0.003577</td>\n",
       "      <td>-0.288682</td>\n",
       "      <td>-0.003728</td>\n",
       "    </tr>\n",
       "    <tr>\n",
       "      <th>12686</th>\n",
       "      <td>-0.273947</td>\n",
       "      <td>-0.344313</td>\n",
       "      <td>-0.262494</td>\n",
       "      <td>-0.303367</td>\n",
       "      <td>-0.548596</td>\n",
       "      <td>-0.283743</td>\n",
       "      <td>-0.003222</td>\n",
       "    </tr>\n",
       "    <tr>\n",
       "      <th>12687</th>\n",
       "      <td>-0.293462</td>\n",
       "      <td>-0.344406</td>\n",
       "      <td>-0.276628</td>\n",
       "      <td>-0.302204</td>\n",
       "      <td>-0.724813</td>\n",
       "      <td>-0.307131</td>\n",
       "      <td>-0.003520</td>\n",
       "    </tr>\n",
       "    <tr>\n",
       "      <th>12688</th>\n",
       "      <td>-0.295249</td>\n",
       "      <td>-0.346373</td>\n",
       "      <td>-0.305190</td>\n",
       "      <td>-0.293254</td>\n",
       "      <td>-0.705652</td>\n",
       "      <td>-0.300080</td>\n",
       "      <td>-0.003498</td>\n",
       "    </tr>\n",
       "    <tr>\n",
       "      <th>12689</th>\n",
       "      <td>-0.282511</td>\n",
       "      <td>-0.346373</td>\n",
       "      <td>-0.265786</td>\n",
       "      <td>-0.292402</td>\n",
       "      <td>-0.906469</td>\n",
       "      <td>-0.290518</td>\n",
       "      <td>-0.002134</td>\n",
       "    </tr>\n",
       "  </tbody>\n",
       "</table>\n",
       "<p>12690 rows × 7 columns</p>\n",
       "</div>"
      ],
      "text/plain": [
       "           Open      High       Low     Close    Volume      VWAP    Target\n",
       "0     -1.193685 -1.174337 -1.228620 -1.180613 -0.636867 -1.200975 -0.014643\n",
       "1     -1.193829 -1.138278 -1.216226 -1.200637 -0.647984 -1.188911 -0.015037\n",
       "2     -1.203929 -1.186888 -1.286717 -1.224938 -0.117867 -1.220018 -0.010309\n",
       "3     -1.223329 -1.188199 -1.308775 -1.255123 -0.477261 -1.240400 -0.008999\n",
       "4     -1.256446 -1.228567 -1.328263 -1.294244  1.061768 -1.283949 -0.008079\n",
       "...         ...       ...       ...       ...       ...       ...       ...\n",
       "12685 -0.305383 -0.340379 -0.246745 -0.285596 -0.003577 -0.288682 -0.003728\n",
       "12686 -0.273947 -0.344313 -0.262494 -0.303367 -0.548596 -0.283743 -0.003222\n",
       "12687 -0.293462 -0.344406 -0.276628 -0.302204 -0.724813 -0.307131 -0.003520\n",
       "12688 -0.295249 -0.346373 -0.305190 -0.293254 -0.705652 -0.300080 -0.003498\n",
       "12689 -0.282511 -0.346373 -0.265786 -0.292402 -0.906469 -0.290518 -0.002134\n",
       "\n",
       "[12690 rows x 7 columns]"
      ]
     },
     "execution_count": 34,
     "metadata": {},
     "output_type": "execute_result"
    }
   ],
   "source": [
    "btc_scaled"
   ]
  },
  {
   "cell_type": "markdown",
   "id": "ec92dc58",
   "metadata": {},
   "source": [
    "* ### Создание датасетов для машинного обучения"
   ]
  },
  {
   "cell_type": "code",
   "execution_count": 35,
   "id": "a1a7f2a5",
   "metadata": {},
   "outputs": [],
   "source": [
    "X = df_without_null_scaled.drop(\"Target\", axis=1)"
   ]
  },
  {
   "cell_type": "code",
   "execution_count": 36,
   "id": "7057a25b",
   "metadata": {},
   "outputs": [
    {
     "data": {
      "text/html": [
       "<div>\n",
       "<style scoped>\n",
       "    .dataframe tbody tr th:only-of-type {\n",
       "        vertical-align: middle;\n",
       "    }\n",
       "\n",
       "    .dataframe tbody tr th {\n",
       "        vertical-align: top;\n",
       "    }\n",
       "\n",
       "    .dataframe thead th {\n",
       "        text-align: right;\n",
       "    }\n",
       "</style>\n",
       "<table border=\"1\" class=\"dataframe\">\n",
       "  <thead>\n",
       "    <tr style=\"text-align: right;\">\n",
       "      <th></th>\n",
       "      <th>Open</th>\n",
       "      <th>High</th>\n",
       "      <th>Low</th>\n",
       "      <th>Close</th>\n",
       "      <th>Volume</th>\n",
       "      <th>VWAP</th>\n",
       "    </tr>\n",
       "  </thead>\n",
       "  <tbody>\n",
       "    <tr>\n",
       "      <th>0</th>\n",
       "      <td>-0.024067</td>\n",
       "      <td>-0.022942</td>\n",
       "      <td>-0.024679</td>\n",
       "      <td>-0.024478</td>\n",
       "      <td>-0.283093</td>\n",
       "      <td>-0.024759</td>\n",
       "    </tr>\n",
       "    <tr>\n",
       "      <th>1</th>\n",
       "      <td>-0.500484</td>\n",
       "      <td>-0.500412</td>\n",
       "      <td>-0.500508</td>\n",
       "      <td>-0.500482</td>\n",
       "      <td>-0.260371</td>\n",
       "      <td>-0.500483</td>\n",
       "    </tr>\n",
       "    <tr>\n",
       "      <th>2</th>\n",
       "      <td>2.281239</td>\n",
       "      <td>2.296402</td>\n",
       "      <td>2.266521</td>\n",
       "      <td>2.284183</td>\n",
       "      <td>-0.278361</td>\n",
       "      <td>2.279630</td>\n",
       "    </tr>\n",
       "    <tr>\n",
       "      <th>3</th>\n",
       "      <td>-0.500659</td>\n",
       "      <td>-0.500586</td>\n",
       "      <td>-0.500685</td>\n",
       "      <td>-0.500658</td>\n",
       "      <td>2.255234</td>\n",
       "      <td>-0.500659</td>\n",
       "    </tr>\n",
       "    <tr>\n",
       "      <th>4</th>\n",
       "      <td>-0.496986</td>\n",
       "      <td>-0.496939</td>\n",
       "      <td>-0.496994</td>\n",
       "      <td>-0.496992</td>\n",
       "      <td>-0.243965</td>\n",
       "      <td>-0.496990</td>\n",
       "    </tr>\n",
       "  </tbody>\n",
       "</table>\n",
       "</div>"
      ],
      "text/plain": [
       "       Open      High       Low     Close    Volume      VWAP\n",
       "0 -0.024067 -0.022942 -0.024679 -0.024478 -0.283093 -0.024759\n",
       "1 -0.500484 -0.500412 -0.500508 -0.500482 -0.260371 -0.500483\n",
       "2  2.281239  2.296402  2.266521  2.284183 -0.278361  2.279630\n",
       "3 -0.500659 -0.500586 -0.500685 -0.500658  2.255234 -0.500659\n",
       "4 -0.496986 -0.496939 -0.496994 -0.496992 -0.243965 -0.496990"
      ]
     },
     "execution_count": 36,
     "metadata": {},
     "output_type": "execute_result"
    }
   ],
   "source": [
    "X.head()"
   ]
  },
  {
   "cell_type": "code",
   "execution_count": 37,
   "id": "695d5cb4",
   "metadata": {},
   "outputs": [],
   "source": [
    "y = df_without_null_scaled[\"Target\"]"
   ]
  },
  {
   "cell_type": "code",
   "execution_count": 38,
   "id": "0d602307",
   "metadata": {},
   "outputs": [
    {
     "data": {
      "text/plain": [
       "0   -0.004218\n",
       "1   -0.014399\n",
       "2   -0.014643\n",
       "3   -0.013922\n",
       "4   -0.008264\n",
       "Name: Target, dtype: float64"
      ]
     },
     "execution_count": 38,
     "metadata": {},
     "output_type": "execute_result"
    }
   ],
   "source": [
    "y.head()"
   ]
  },
  {
   "cell_type": "code",
   "execution_count": 39,
   "id": "3ca5b3d4",
   "metadata": {},
   "outputs": [],
   "source": [
    "X_btc = btc_scaled.drop(\"Target\", axis=1)"
   ]
  },
  {
   "cell_type": "code",
   "execution_count": 40,
   "id": "a12cfc3c",
   "metadata": {},
   "outputs": [],
   "source": [
    "y_btc = btc[\"Target\"]"
   ]
  },
  {
   "cell_type": "markdown",
   "id": "08323585",
   "metadata": {},
   "source": [
    "* ### 'Train\\Valid' split"
   ]
  },
  {
   "cell_type": "markdown",
   "id": "4e8b4cb1",
   "metadata": {},
   "source": [
    "Возьмем первые 80% данных в качестве обучающих. Остальные 20% данных в качестве валидационных"
   ]
  },
  {
   "cell_type": "code",
   "execution_count": 41,
   "id": "9878be9c",
   "metadata": {},
   "outputs": [
    {
     "data": {
      "text/plain": [
       "(97604, 6)"
      ]
     },
     "execution_count": 41,
     "metadata": {},
     "output_type": "execute_result"
    }
   ],
   "source": [
    "X.shape"
   ]
  },
  {
   "cell_type": "code",
   "execution_count": 42,
   "id": "e9223c52",
   "metadata": {},
   "outputs": [],
   "source": [
    "X_train, y_train = X[:int(X.shape[0] * 0.8)], y[:int(X.shape[0] * 0.8)]"
   ]
  },
  {
   "cell_type": "code",
   "execution_count": 43,
   "id": "572d263b",
   "metadata": {},
   "outputs": [
    {
     "data": {
      "text/plain": [
       "((78083, 6), (78083,))"
      ]
     },
     "execution_count": 43,
     "metadata": {},
     "output_type": "execute_result"
    }
   ],
   "source": [
    "X_train.shape, y_train.shape"
   ]
  },
  {
   "cell_type": "code",
   "execution_count": 44,
   "id": "a108cfb9",
   "metadata": {},
   "outputs": [],
   "source": [
    "X_valid, y_valid = X[int(X.shape[0] * 0.8):], y[int(X.shape[0] * 0.8):]"
   ]
  },
  {
   "cell_type": "code",
   "execution_count": 45,
   "id": "99befc18",
   "metadata": {},
   "outputs": [
    {
     "data": {
      "text/plain": [
       "((19521, 6), (19521,))"
      ]
     },
     "execution_count": 45,
     "metadata": {},
     "output_type": "execute_result"
    }
   ],
   "source": [
    "X_valid.shape, y_valid.shape"
   ]
  },
  {
   "cell_type": "markdown",
   "id": "076fca0c",
   "metadata": {},
   "source": [
    "Проделаем тоже самое с датасетом Bitcoin"
   ]
  },
  {
   "cell_type": "code",
   "execution_count": 46,
   "id": "e96be313",
   "metadata": {},
   "outputs": [
    {
     "data": {
      "text/plain": [
       "((10152, 6), (10152,))"
      ]
     },
     "execution_count": 46,
     "metadata": {},
     "output_type": "execute_result"
    }
   ],
   "source": [
    "X_btc_train, y_btc_train = X_btc[:int(X_btc.shape[0] * 0.8)], y_btc[:int(X_btc.shape[0] * 0.8)]\n",
    "X_btc_train.shape, y_btc_train.shape"
   ]
  },
  {
   "cell_type": "code",
   "execution_count": 47,
   "id": "01299b24",
   "metadata": {},
   "outputs": [
    {
     "data": {
      "text/plain": [
       "((2538, 6), (2538,))"
      ]
     },
     "execution_count": 47,
     "metadata": {},
     "output_type": "execute_result"
    }
   ],
   "source": [
    "X_btc_valid, y_btc_valid = X_btc[int(X_btc.shape[0] * 0.8):], y_btc[int(X_btc.shape[0] * 0.8):]\n",
    "X_btc_valid.shape, y_btc_valid.shape"
   ]
  },
  {
   "cell_type": "markdown",
   "id": "df7ff2fe",
   "metadata": {},
   "source": [
    "## Part 4: Machine Learning"
   ]
  },
  {
   "cell_type": "markdown",
   "id": "9a080f3b",
   "metadata": {},
   "source": [
    "* ### Linear Regression"
   ]
  },
  {
   "cell_type": "code",
   "execution_count": 48,
   "id": "8f9462a4",
   "metadata": {},
   "outputs": [],
   "source": [
    "LR = LinearRegression()"
   ]
  },
  {
   "cell_type": "code",
   "execution_count": 49,
   "id": "464c1c57",
   "metadata": {},
   "outputs": [
    {
     "data": {
      "text/plain": [
       "LinearRegression()"
      ]
     },
     "execution_count": 49,
     "metadata": {},
     "output_type": "execute_result"
    }
   ],
   "source": [
    "LR.fit(X_train, y_train)"
   ]
  },
  {
   "cell_type": "code",
   "execution_count": 50,
   "id": "23bcc36e",
   "metadata": {},
   "outputs": [],
   "source": [
    "LR_pred = LR.predict(X_valid)"
   ]
  },
  {
   "cell_type": "code",
   "execution_count": 51,
   "id": "9a0ff74c",
   "metadata": {},
   "outputs": [
    {
     "data": {
      "text/plain": [
       "array([0.00037672, 0.00041931, 0.00043745, ..., 0.00039655, 0.00041037,\n",
       "       0.00036804])"
      ]
     },
     "execution_count": 51,
     "metadata": {},
     "output_type": "execute_result"
    }
   ],
   "source": [
    "LR_pred"
   ]
  },
  {
   "cell_type": "code",
   "execution_count": 52,
   "id": "cda6d14c",
   "metadata": {},
   "outputs": [
    {
     "data": {
      "text/html": [
       "<div>\n",
       "<style scoped>\n",
       "    .dataframe tbody tr th:only-of-type {\n",
       "        vertical-align: middle;\n",
       "    }\n",
       "\n",
       "    .dataframe tbody tr th {\n",
       "        vertical-align: top;\n",
       "    }\n",
       "\n",
       "    .dataframe thead th {\n",
       "        text-align: right;\n",
       "    }\n",
       "</style>\n",
       "<table border=\"1\" class=\"dataframe\">\n",
       "  <thead>\n",
       "    <tr style=\"text-align: right;\">\n",
       "      <th></th>\n",
       "      <th>Actual</th>\n",
       "      <th>Predicted</th>\n",
       "    </tr>\n",
       "  </thead>\n",
       "  <tbody>\n",
       "    <tr>\n",
       "      <th>78083</th>\n",
       "      <td>-0.000038</td>\n",
       "      <td>0.000377</td>\n",
       "    </tr>\n",
       "    <tr>\n",
       "      <th>78084</th>\n",
       "      <td>0.004741</td>\n",
       "      <td>0.000419</td>\n",
       "    </tr>\n",
       "    <tr>\n",
       "      <th>78085</th>\n",
       "      <td>-0.010573</td>\n",
       "      <td>0.000437</td>\n",
       "    </tr>\n",
       "    <tr>\n",
       "      <th>78086</th>\n",
       "      <td>0.007631</td>\n",
       "      <td>0.001367</td>\n",
       "    </tr>\n",
       "    <tr>\n",
       "      <th>78087</th>\n",
       "      <td>0.006141</td>\n",
       "      <td>0.000667</td>\n",
       "    </tr>\n",
       "    <tr>\n",
       "      <th>...</th>\n",
       "      <td>...</td>\n",
       "      <td>...</td>\n",
       "    </tr>\n",
       "    <tr>\n",
       "      <th>97599</th>\n",
       "      <td>-0.002602</td>\n",
       "      <td>0.000398</td>\n",
       "    </tr>\n",
       "    <tr>\n",
       "      <th>97600</th>\n",
       "      <td>-0.002134</td>\n",
       "      <td>-0.000411</td>\n",
       "    </tr>\n",
       "    <tr>\n",
       "      <th>97601</th>\n",
       "      <td>-0.005362</td>\n",
       "      <td>0.000397</td>\n",
       "    </tr>\n",
       "    <tr>\n",
       "      <th>97602</th>\n",
       "      <td>0.001431</td>\n",
       "      <td>0.000410</td>\n",
       "    </tr>\n",
       "    <tr>\n",
       "      <th>97603</th>\n",
       "      <td>0.002114</td>\n",
       "      <td>0.000368</td>\n",
       "    </tr>\n",
       "  </tbody>\n",
       "</table>\n",
       "<p>19521 rows × 2 columns</p>\n",
       "</div>"
      ],
      "text/plain": [
       "         Actual  Predicted\n",
       "78083 -0.000038   0.000377\n",
       "78084  0.004741   0.000419\n",
       "78085 -0.010573   0.000437\n",
       "78086  0.007631   0.001367\n",
       "78087  0.006141   0.000667\n",
       "...         ...        ...\n",
       "97599 -0.002602   0.000398\n",
       "97600 -0.002134  -0.000411\n",
       "97601 -0.005362   0.000397\n",
       "97602  0.001431   0.000410\n",
       "97603  0.002114   0.000368\n",
       "\n",
       "[19521 rows x 2 columns]"
      ]
     },
     "execution_count": 52,
     "metadata": {},
     "output_type": "execute_result"
    }
   ],
   "source": [
    "pd.DataFrame({\"Actual\": y_valid, \"Predicted\": LR_pred})"
   ]
  },
  {
   "cell_type": "code",
   "execution_count": 53,
   "id": "fe19d053",
   "metadata": {},
   "outputs": [
    {
     "data": {
      "text/plain": [
       "0.01068882913522095"
      ]
     },
     "execution_count": 53,
     "metadata": {},
     "output_type": "execute_result"
    }
   ],
   "source": [
    "np.sqrt(mean_squared_error(y_valid, LR_pred))"
   ]
  },
  {
   "cell_type": "markdown",
   "id": "7df3e90d",
   "metadata": {},
   "source": [
    "Проделаем тоже самое с датасетом Bitcoin"
   ]
  },
  {
   "cell_type": "code",
   "execution_count": 54,
   "id": "b3a93acc",
   "metadata": {},
   "outputs": [
    {
     "data": {
      "text/plain": [
       "array([-0.00028037,  0.00176242,  0.00123547, ..., -0.00027464,\n",
       "        0.00033664, -0.00013506])"
      ]
     },
     "execution_count": 54,
     "metadata": {},
     "output_type": "execute_result"
    }
   ],
   "source": [
    "LR_btc = LR.fit(X_btc_train, y_btc_train)\n",
    "LR_btc_pred = LR_btc.predict(X_btc_valid)\n",
    "LR_btc_pred"
   ]
  },
  {
   "cell_type": "code",
   "execution_count": 55,
   "id": "d4e2497f",
   "metadata": {},
   "outputs": [],
   "source": [
    "btc_pred_LR = pd.DataFrame({\n",
    "    \"timestamp\": btc[\"timestamp\"][int(btc.shape[0] * 0.8):],\n",
    "    \"Actual\": y_btc_valid, \n",
    "    \"Predicted\": LR_btc_pred})"
   ]
  },
  {
   "cell_type": "code",
   "execution_count": 56,
   "id": "d9a8bf09",
   "metadata": {},
   "outputs": [
    {
     "data": {
      "text/html": [
       "<div>\n",
       "<style scoped>\n",
       "    .dataframe tbody tr th:only-of-type {\n",
       "        vertical-align: middle;\n",
       "    }\n",
       "\n",
       "    .dataframe tbody tr th {\n",
       "        vertical-align: top;\n",
       "    }\n",
       "\n",
       "    .dataframe thead th {\n",
       "        text-align: right;\n",
       "    }\n",
       "</style>\n",
       "<table border=\"1\" class=\"dataframe\">\n",
       "  <thead>\n",
       "    <tr style=\"text-align: right;\">\n",
       "      <th></th>\n",
       "      <th>timestamp</th>\n",
       "      <th>Actual</th>\n",
       "      <th>Predicted</th>\n",
       "    </tr>\n",
       "  </thead>\n",
       "  <tbody>\n",
       "    <tr>\n",
       "      <th>79884</th>\n",
       "      <td>1515373980</td>\n",
       "      <td>-0.002128</td>\n",
       "      <td>-0.000280</td>\n",
       "    </tr>\n",
       "    <tr>\n",
       "      <th>79892</th>\n",
       "      <td>1515374040</td>\n",
       "      <td>-0.000297</td>\n",
       "      <td>0.001762</td>\n",
       "    </tr>\n",
       "    <tr>\n",
       "      <th>79900</th>\n",
       "      <td>1515374100</td>\n",
       "      <td>-0.001767</td>\n",
       "      <td>0.001235</td>\n",
       "    </tr>\n",
       "    <tr>\n",
       "      <th>79908</th>\n",
       "      <td>1515374160</td>\n",
       "      <td>0.000042</td>\n",
       "      <td>0.001437</td>\n",
       "    </tr>\n",
       "    <tr>\n",
       "      <th>79916</th>\n",
       "      <td>1515374220</td>\n",
       "      <td>-0.003806</td>\n",
       "      <td>0.000822</td>\n",
       "    </tr>\n",
       "    <tr>\n",
       "      <th>...</th>\n",
       "      <td>...</td>\n",
       "      <td>...</td>\n",
       "      <td>...</td>\n",
       "    </tr>\n",
       "    <tr>\n",
       "      <th>99965</th>\n",
       "      <td>1515525960</td>\n",
       "      <td>-0.003728</td>\n",
       "      <td>0.001031</td>\n",
       "    </tr>\n",
       "    <tr>\n",
       "      <th>99973</th>\n",
       "      <td>1515526020</td>\n",
       "      <td>-0.003222</td>\n",
       "      <td>-0.000353</td>\n",
       "    </tr>\n",
       "    <tr>\n",
       "      <th>99981</th>\n",
       "      <td>1515526080</td>\n",
       "      <td>-0.003520</td>\n",
       "      <td>-0.000275</td>\n",
       "    </tr>\n",
       "    <tr>\n",
       "      <th>99988</th>\n",
       "      <td>1515526140</td>\n",
       "      <td>-0.003498</td>\n",
       "      <td>0.000337</td>\n",
       "    </tr>\n",
       "    <tr>\n",
       "      <th>99996</th>\n",
       "      <td>1515526200</td>\n",
       "      <td>-0.002134</td>\n",
       "      <td>-0.000135</td>\n",
       "    </tr>\n",
       "  </tbody>\n",
       "</table>\n",
       "<p>2538 rows × 3 columns</p>\n",
       "</div>"
      ],
      "text/plain": [
       "        timestamp    Actual  Predicted\n",
       "79884  1515373980 -0.002128  -0.000280\n",
       "79892  1515374040 -0.000297   0.001762\n",
       "79900  1515374100 -0.001767   0.001235\n",
       "79908  1515374160  0.000042   0.001437\n",
       "79916  1515374220 -0.003806   0.000822\n",
       "...           ...       ...        ...\n",
       "99965  1515525960 -0.003728   0.001031\n",
       "99973  1515526020 -0.003222  -0.000353\n",
       "99981  1515526080 -0.003520  -0.000275\n",
       "99988  1515526140 -0.003498   0.000337\n",
       "99996  1515526200 -0.002134  -0.000135\n",
       "\n",
       "[2538 rows x 3 columns]"
      ]
     },
     "execution_count": 56,
     "metadata": {},
     "output_type": "execute_result"
    }
   ],
   "source": [
    "btc_pred_LR"
   ]
  },
  {
   "cell_type": "code",
   "execution_count": 57,
   "id": "41e09822",
   "metadata": {},
   "outputs": [
    {
     "data": {
      "text/plain": [
       "0.0035653177382412057"
      ]
     },
     "execution_count": 57,
     "metadata": {},
     "output_type": "execute_result"
    }
   ],
   "source": [
    "np.sqrt(mean_squared_error(y_btc_valid, LR_btc_pred))"
   ]
  },
  {
   "cell_type": "code",
   "execution_count": 58,
   "id": "8a22e596",
   "metadata": {},
   "outputs": [
    {
     "data": {
      "text/plain": [
       "<AxesSubplot:xlabel='timestamp', ylabel='Actual'>"
      ]
     },
     "execution_count": 58,
     "metadata": {},
     "output_type": "execute_result"
    },
    {
     "data": {
      "image/png": "[encoded data removed]",
      "text/plain": [
       "<Figure size 1080x504 with 1 Axes>"
      ]
     },
     "metadata": {
      "needs_background": "light"
     },
     "output_type": "display_data"
    }
   ],
   "source": [
    "plt.figure(figsize=(15, 7))\n",
    "sns.lineplot(data=btc_pred_LR, x=\"timestamp\", y=\"Actual\")\n",
    "sns.lineplot(data=btc_pred_LR, x=\"timestamp\", y=\"Predicted\")"
   ]
  },
  {
   "cell_type": "code",
   "execution_count": 75,
   "id": "15ecdf41",
   "metadata": {},
   "outputs": [],
   "source": [
    "LR_btc_importance = LR_btc.coef_"
   ]
  },
  {
   "cell_type": "code",
   "execution_count": 92,
   "id": "d7715bfc",
   "metadata": {},
   "outputs": [
    {
     "name": "stdout",
     "output_type": "stream",
     "text": [
      "Веса линейной регрессии\n",
      "\n",
      "Фича Open имеет вес -0.0308\n",
      "Фича High имеет вес -0.0095\n",
      "Фича Low имеет вес -0.0057\n",
      "Фича Close имеет вес 0.0223\n",
      "Фича Volume имеет вес 0.0005\n",
      "Фича VWAP имеет вес 0.0234\n",
      "Свободный коэффициент равен: 0.0001\n"
     ]
    }
   ],
   "source": [
    "print(\"Веса линейной регрессии\", end=\"\\n\\n\")\n",
    "for index, name in enumerate(X_btc_train.columns):\n",
    "    print(f\"Фича {name} имеет вес {round(LR_btc_importance[index], 4)}\")\n",
    "print(f\"Свободный коэффициент равен: {round(LR_btc.intercept_, 4)}\")"
   ]
  },
  {
   "cell_type": "markdown",
   "id": "f409627a",
   "metadata": {},
   "source": [
    "* ### Decision Tree Regression"
   ]
  },
  {
   "cell_type": "code",
   "execution_count": 59,
   "id": "cf4e717b",
   "metadata": {},
   "outputs": [],
   "source": [
    "DT = DecisionTreeRegressor()"
   ]
  },
  {
   "cell_type": "code",
   "execution_count": 60,
   "id": "e6ea1ae3",
   "metadata": {},
   "outputs": [
    {
     "data": {
      "text/plain": [
       "DecisionTreeRegressor()"
      ]
     },
     "execution_count": 60,
     "metadata": {},
     "output_type": "execute_result"
    }
   ],
   "source": [
    "DT.fit(X_btc_train, y_btc_train)"
   ]
  },
  {
   "cell_type": "code",
   "execution_count": 61,
   "id": "d1850454",
   "metadata": {},
   "outputs": [],
   "source": [
    "DT_btc_pred = DT.predict(X_btc_valid)"
   ]
  },
  {
   "cell_type": "code",
   "execution_count": 62,
   "id": "1fb12ae6",
   "metadata": {},
   "outputs": [
    {
     "data": {
      "text/plain": [
       "array([ 0.00044163,  0.00846644, -0.00020283, ...,  0.00410966,\n",
       "        0.00410966, -0.00341187])"
      ]
     },
     "execution_count": 62,
     "metadata": {},
     "output_type": "execute_result"
    }
   ],
   "source": [
    "DT_btc_pred"
   ]
  },
  {
   "cell_type": "code",
   "execution_count": 63,
   "id": "c155fea0",
   "metadata": {},
   "outputs": [],
   "source": [
    "btc_pred_DT = pd.DataFrame({\n",
    "    \"timestamp\": btc[\"timestamp\"][int(btc.shape[0] * 0.8):],\n",
    "    \"Actual\": y_btc_valid, \n",
    "    \"Predicted\": DT_btc_pred})"
   ]
  },
  {
   "cell_type": "code",
   "execution_count": 64,
   "id": "13534ea1",
   "metadata": {},
   "outputs": [
    {
     "data": {
      "text/html": [
       "<div>\n",
       "<style scoped>\n",
       "    .dataframe tbody tr th:only-of-type {\n",
       "        vertical-align: middle;\n",
       "    }\n",
       "\n",
       "    .dataframe tbody tr th {\n",
       "        vertical-align: top;\n",
       "    }\n",
       "\n",
       "    .dataframe thead th {\n",
       "        text-align: right;\n",
       "    }\n",
       "</style>\n",
       "<table border=\"1\" class=\"dataframe\">\n",
       "  <thead>\n",
       "    <tr style=\"text-align: right;\">\n",
       "      <th></th>\n",
       "      <th>timestamp</th>\n",
       "      <th>Actual</th>\n",
       "      <th>Predicted</th>\n",
       "    </tr>\n",
       "  </thead>\n",
       "  <tbody>\n",
       "    <tr>\n",
       "      <th>79884</th>\n",
       "      <td>1515373980</td>\n",
       "      <td>-0.002128</td>\n",
       "      <td>0.000442</td>\n",
       "    </tr>\n",
       "    <tr>\n",
       "      <th>79892</th>\n",
       "      <td>1515374040</td>\n",
       "      <td>-0.000297</td>\n",
       "      <td>0.008466</td>\n",
       "    </tr>\n",
       "    <tr>\n",
       "      <th>79900</th>\n",
       "      <td>1515374100</td>\n",
       "      <td>-0.001767</td>\n",
       "      <td>-0.000203</td>\n",
       "    </tr>\n",
       "    <tr>\n",
       "      <th>79908</th>\n",
       "      <td>1515374160</td>\n",
       "      <td>0.000042</td>\n",
       "      <td>0.000539</td>\n",
       "    </tr>\n",
       "    <tr>\n",
       "      <th>79916</th>\n",
       "      <td>1515374220</td>\n",
       "      <td>-0.003806</td>\n",
       "      <td>0.000539</td>\n",
       "    </tr>\n",
       "    <tr>\n",
       "      <th>...</th>\n",
       "      <td>...</td>\n",
       "      <td>...</td>\n",
       "      <td>...</td>\n",
       "    </tr>\n",
       "    <tr>\n",
       "      <th>99965</th>\n",
       "      <td>1515525960</td>\n",
       "      <td>-0.003728</td>\n",
       "      <td>0.002602</td>\n",
       "    </tr>\n",
       "    <tr>\n",
       "      <th>99973</th>\n",
       "      <td>1515526020</td>\n",
       "      <td>-0.003222</td>\n",
       "      <td>-0.003412</td>\n",
       "    </tr>\n",
       "    <tr>\n",
       "      <th>99981</th>\n",
       "      <td>1515526080</td>\n",
       "      <td>-0.003520</td>\n",
       "      <td>0.004110</td>\n",
       "    </tr>\n",
       "    <tr>\n",
       "      <th>99988</th>\n",
       "      <td>1515526140</td>\n",
       "      <td>-0.003498</td>\n",
       "      <td>0.004110</td>\n",
       "    </tr>\n",
       "    <tr>\n",
       "      <th>99996</th>\n",
       "      <td>1515526200</td>\n",
       "      <td>-0.002134</td>\n",
       "      <td>-0.003412</td>\n",
       "    </tr>\n",
       "  </tbody>\n",
       "</table>\n",
       "<p>2538 rows × 3 columns</p>\n",
       "</div>"
      ],
      "text/plain": [
       "        timestamp    Actual  Predicted\n",
       "79884  1515373980 -0.002128   0.000442\n",
       "79892  1515374040 -0.000297   0.008466\n",
       "79900  1515374100 -0.001767  -0.000203\n",
       "79908  1515374160  0.000042   0.000539\n",
       "79916  1515374220 -0.003806   0.000539\n",
       "...           ...       ...        ...\n",
       "99965  1515525960 -0.003728   0.002602\n",
       "99973  1515526020 -0.003222  -0.003412\n",
       "99981  1515526080 -0.003520   0.004110\n",
       "99988  1515526140 -0.003498   0.004110\n",
       "99996  1515526200 -0.002134  -0.003412\n",
       "\n",
       "[2538 rows x 3 columns]"
      ]
     },
     "execution_count": 64,
     "metadata": {},
     "output_type": "execute_result"
    }
   ],
   "source": [
    "btc_pred_DT"
   ]
  },
  {
   "cell_type": "code",
   "execution_count": 65,
   "id": "d795937d",
   "metadata": {
    "scrolled": false
   },
   "outputs": [
    {
     "data": {
      "text/plain": [
       "<AxesSubplot:xlabel='timestamp', ylabel='Actual'>"
      ]
     },
     "execution_count": 65,
     "metadata": {},
     "output_type": "execute_result"
    },
    {
     "data": {
      "image/png": "[encoded data removed]",
      "text/plain": [
       "<Figure size 1080x504 with 1 Axes>"
      ]
     },
     "metadata": {
      "needs_background": "light"
     },
     "output_type": "display_data"
    }
   ],
   "source": [
    "plt.figure(figsize=(15, 7))\n",
    "sns.lineplot(data=btc_pred_DT, x=\"timestamp\", y=\"Actual\")\n",
    "sns.lineplot(data=btc_pred_DT, x=\"timestamp\", y=\"Predicted\")"
   ]
  },
  {
   "cell_type": "code",
   "execution_count": 103,
   "id": "3b33adbc",
   "metadata": {},
   "outputs": [],
   "source": [
    "parametrs = {\n",
    "    \"max_depth\": [3, 4, 5, 6, 7, 8, 9, 10, 15, 20],\n",
    "    \"criterion\": [\"squared_error\", \"friedman_mse\", \"absolute_error\"]\n",
    "}"
   ]
  },
  {
   "cell_type": "code",
   "execution_count": 104,
   "id": "8d39731f",
   "metadata": {},
   "outputs": [],
   "source": [
    "DT_1 = GridSearchCV(DT, param_grid=parametrs, cv=5)"
   ]
  },
  {
   "cell_type": "code",
   "execution_count": 105,
   "id": "78efa8be",
   "metadata": {},
   "outputs": [
    {
     "data": {
      "text/plain": [
       "GridSearchCV(cv=5, estimator=DecisionTreeRegressor(),\n",
       "             param_grid={'criterion': ['squared_error', 'friedman_mse',\n",
       "                                       'absolute_error'],\n",
       "                         'max_depth': [3, 4, 5, 6, 7, 8, 9, 10, 15, 20]})"
      ]
     },
     "execution_count": 105,
     "metadata": {},
     "output_type": "execute_result"
    }
   ],
   "source": [
    "DT_1.fit(X_btc_train, y_btc_train)"
   ]
  },
  {
   "cell_type": "code",
   "execution_count": 106,
   "id": "ca66393f",
   "metadata": {},
   "outputs": [
    {
     "data": {
      "text/plain": [
       "{'criterion': 'absolute_error', 'max_depth': 3}"
      ]
     },
     "execution_count": 106,
     "metadata": {},
     "output_type": "execute_result"
    }
   ],
   "source": [
    "DT_1.best_params_"
   ]
  },
  {
   "cell_type": "code",
   "execution_count": 108,
   "id": "4818ec5f",
   "metadata": {},
   "outputs": [],
   "source": [
    "DT_1_btc_pred = DT_1.predict(X_btc_valid)"
   ]
  },
  {
   "cell_type": "code",
   "execution_count": 109,
   "id": "95105c57",
   "metadata": {},
   "outputs": [],
   "source": [
    "btc_pred_DT_1 = pd.DataFrame({\n",
    "    \"timestamp\": btc[\"timestamp\"][int(btc.shape[0] * 0.8):],\n",
    "    \"Actual\": y_btc_valid, \n",
    "    \"Predicted\": DT_1_btc_pred})"
   ]
  },
  {
   "cell_type": "code",
   "execution_count": 110,
   "id": "aea22715",
   "metadata": {},
   "outputs": [
    {
     "data": {
      "text/html": [
       "<div>\n",
       "<style scoped>\n",
       "    .dataframe tbody tr th:only-of-type {\n",
       "        vertical-align: middle;\n",
       "    }\n",
       "\n",
       "    .dataframe tbody tr th {\n",
       "        vertical-align: top;\n",
       "    }\n",
       "\n",
       "    .dataframe thead th {\n",
       "        text-align: right;\n",
       "    }\n",
       "</style>\n",
       "<table border=\"1\" class=\"dataframe\">\n",
       "  <thead>\n",
       "    <tr style=\"text-align: right;\">\n",
       "      <th></th>\n",
       "      <th>timestamp</th>\n",
       "      <th>Actual</th>\n",
       "      <th>Predicted</th>\n",
       "    </tr>\n",
       "  </thead>\n",
       "  <tbody>\n",
       "    <tr>\n",
       "      <th>79884</th>\n",
       "      <td>1515373980</td>\n",
       "      <td>-0.002128</td>\n",
       "      <td>-0.000528</td>\n",
       "    </tr>\n",
       "    <tr>\n",
       "      <th>79892</th>\n",
       "      <td>1515374040</td>\n",
       "      <td>-0.000297</td>\n",
       "      <td>-0.000528</td>\n",
       "    </tr>\n",
       "    <tr>\n",
       "      <th>79900</th>\n",
       "      <td>1515374100</td>\n",
       "      <td>-0.001767</td>\n",
       "      <td>-0.000528</td>\n",
       "    </tr>\n",
       "    <tr>\n",
       "      <th>79908</th>\n",
       "      <td>1515374160</td>\n",
       "      <td>0.000042</td>\n",
       "      <td>-0.000528</td>\n",
       "    </tr>\n",
       "    <tr>\n",
       "      <th>79916</th>\n",
       "      <td>1515374220</td>\n",
       "      <td>-0.003806</td>\n",
       "      <td>-0.000528</td>\n",
       "    </tr>\n",
       "    <tr>\n",
       "      <th>...</th>\n",
       "      <td>...</td>\n",
       "      <td>...</td>\n",
       "      <td>...</td>\n",
       "    </tr>\n",
       "    <tr>\n",
       "      <th>99965</th>\n",
       "      <td>1515525960</td>\n",
       "      <td>-0.003728</td>\n",
       "      <td>0.000904</td>\n",
       "    </tr>\n",
       "    <tr>\n",
       "      <th>99973</th>\n",
       "      <td>1515526020</td>\n",
       "      <td>-0.003222</td>\n",
       "      <td>0.000904</td>\n",
       "    </tr>\n",
       "    <tr>\n",
       "      <th>99981</th>\n",
       "      <td>1515526080</td>\n",
       "      <td>-0.003520</td>\n",
       "      <td>0.000904</td>\n",
       "    </tr>\n",
       "    <tr>\n",
       "      <th>99988</th>\n",
       "      <td>1515526140</td>\n",
       "      <td>-0.003498</td>\n",
       "      <td>0.000904</td>\n",
       "    </tr>\n",
       "    <tr>\n",
       "      <th>99996</th>\n",
       "      <td>1515526200</td>\n",
       "      <td>-0.002134</td>\n",
       "      <td>0.000904</td>\n",
       "    </tr>\n",
       "  </tbody>\n",
       "</table>\n",
       "<p>2538 rows × 3 columns</p>\n",
       "</div>"
      ],
      "text/plain": [
       "        timestamp    Actual  Predicted\n",
       "79884  1515373980 -0.002128  -0.000528\n",
       "79892  1515374040 -0.000297  -0.000528\n",
       "79900  1515374100 -0.001767  -0.000528\n",
       "79908  1515374160  0.000042  -0.000528\n",
       "79916  1515374220 -0.003806  -0.000528\n",
       "...           ...       ...        ...\n",
       "99965  1515525960 -0.003728   0.000904\n",
       "99973  1515526020 -0.003222   0.000904\n",
       "99981  1515526080 -0.003520   0.000904\n",
       "99988  1515526140 -0.003498   0.000904\n",
       "99996  1515526200 -0.002134   0.000904\n",
       "\n",
       "[2538 rows x 3 columns]"
      ]
     },
     "execution_count": 110,
     "metadata": {},
     "output_type": "execute_result"
    }
   ],
   "source": [
    "btc_pred_DT_1"
   ]
  },
  {
   "cell_type": "code",
   "execution_count": 111,
   "id": "98d5fa4e",
   "metadata": {},
   "outputs": [
    {
     "data": {
      "text/plain": [
       "<AxesSubplot:xlabel='timestamp', ylabel='Actual'>"
      ]
     },
     "execution_count": 111,
     "metadata": {},
     "output_type": "execute_result"
    },
    {
     "data": {
      "image/png": "[encoded data removed]",
      "text/plain": [
       "<Figure size 1080x504 with 1 Axes>"
      ]
     },
     "metadata": {
      "needs_background": "light"
     },
     "output_type": "display_data"
    }
   ],
   "source": [
    "plt.figure(figsize=(15, 7))\n",
    "sns.lineplot(data=btc_pred_DT_1, x=\"timestamp\", y=\"Actual\")\n",
    "sns.lineplot(data=btc_pred_DT_1, x=\"timestamp\", y=\"Predicted\")"
   ]
  },
  {
   "cell_type": "markdown",
   "id": "45d5e710",
   "metadata": {},
   "source": [
    "* ### Random Forest Regression"
   ]
  },
  {
   "cell_type": "code",
   "execution_count": 66,
   "id": "cd71127b",
   "metadata": {},
   "outputs": [],
   "source": [
    "RF = RandomForestRegressor()"
   ]
  },
  {
   "cell_type": "code",
   "execution_count": 67,
   "id": "14a7a62c",
   "metadata": {},
   "outputs": [
    {
     "data": {
      "text/plain": [
       "RandomForestRegressor()"
      ]
     },
     "execution_count": 67,
     "metadata": {},
     "output_type": "execute_result"
    }
   ],
   "source": [
    "RF.fit(X_btc_train, y_btc_train)"
   ]
  },
  {
   "cell_type": "code",
   "execution_count": 68,
   "id": "0178253d",
   "metadata": {},
   "outputs": [],
   "source": [
    "RF_btc_pred = RF.predict(X_btc_valid)"
   ]
  },
  {
   "cell_type": "code",
   "execution_count": 69,
   "id": "b72a2310",
   "metadata": {},
   "outputs": [
    {
     "data": {
      "text/plain": [
       "array([0.00489944, 0.00376485, 0.00417879, ..., 0.00030625, 0.00026859,\n",
       "       0.00067335])"
      ]
     },
     "execution_count": 69,
     "metadata": {},
     "output_type": "execute_result"
    }
   ],
   "source": [
    "RF_btc_pred"
   ]
  },
  {
   "cell_type": "code",
   "execution_count": 70,
   "id": "5443ef60",
   "metadata": {},
   "outputs": [],
   "source": [
    "btc_pred_RF = pd.DataFrame({\n",
    "    \"timestamp\": btc[\"timestamp\"][int(btc.shape[0] * 0.8):],\n",
    "    \"Actual\": y_btc_valid, \n",
    "    \"Predicted\": RF_btc_pred})"
   ]
  },
  {
   "cell_type": "code",
   "execution_count": 71,
   "id": "55061166",
   "metadata": {},
   "outputs": [
    {
     "data": {
      "text/html": [
       "<div>\n",
       "<style scoped>\n",
       "    .dataframe tbody tr th:only-of-type {\n",
       "        vertical-align: middle;\n",
       "    }\n",
       "\n",
       "    .dataframe tbody tr th {\n",
       "        vertical-align: top;\n",
       "    }\n",
       "\n",
       "    .dataframe thead th {\n",
       "        text-align: right;\n",
       "    }\n",
       "</style>\n",
       "<table border=\"1\" class=\"dataframe\">\n",
       "  <thead>\n",
       "    <tr style=\"text-align: right;\">\n",
       "      <th></th>\n",
       "      <th>timestamp</th>\n",
       "      <th>Actual</th>\n",
       "      <th>Predicted</th>\n",
       "    </tr>\n",
       "  </thead>\n",
       "  <tbody>\n",
       "    <tr>\n",
       "      <th>79884</th>\n",
       "      <td>1515373980</td>\n",
       "      <td>-0.002128</td>\n",
       "      <td>0.004899</td>\n",
       "    </tr>\n",
       "    <tr>\n",
       "      <th>79892</th>\n",
       "      <td>1515374040</td>\n",
       "      <td>-0.000297</td>\n",
       "      <td>0.003765</td>\n",
       "    </tr>\n",
       "    <tr>\n",
       "      <th>79900</th>\n",
       "      <td>1515374100</td>\n",
       "      <td>-0.001767</td>\n",
       "      <td>0.004179</td>\n",
       "    </tr>\n",
       "    <tr>\n",
       "      <th>79908</th>\n",
       "      <td>1515374160</td>\n",
       "      <td>0.000042</td>\n",
       "      <td>0.004249</td>\n",
       "    </tr>\n",
       "    <tr>\n",
       "      <th>79916</th>\n",
       "      <td>1515374220</td>\n",
       "      <td>-0.003806</td>\n",
       "      <td>0.002118</td>\n",
       "    </tr>\n",
       "    <tr>\n",
       "      <th>...</th>\n",
       "      <td>...</td>\n",
       "      <td>...</td>\n",
       "      <td>...</td>\n",
       "    </tr>\n",
       "    <tr>\n",
       "      <th>99965</th>\n",
       "      <td>1515525960</td>\n",
       "      <td>-0.003728</td>\n",
       "      <td>0.001902</td>\n",
       "    </tr>\n",
       "    <tr>\n",
       "      <th>99973</th>\n",
       "      <td>1515526020</td>\n",
       "      <td>-0.003222</td>\n",
       "      <td>0.000009</td>\n",
       "    </tr>\n",
       "    <tr>\n",
       "      <th>99981</th>\n",
       "      <td>1515526080</td>\n",
       "      <td>-0.003520</td>\n",
       "      <td>0.000306</td>\n",
       "    </tr>\n",
       "    <tr>\n",
       "      <th>99988</th>\n",
       "      <td>1515526140</td>\n",
       "      <td>-0.003498</td>\n",
       "      <td>0.000269</td>\n",
       "    </tr>\n",
       "    <tr>\n",
       "      <th>99996</th>\n",
       "      <td>1515526200</td>\n",
       "      <td>-0.002134</td>\n",
       "      <td>0.000673</td>\n",
       "    </tr>\n",
       "  </tbody>\n",
       "</table>\n",
       "<p>2538 rows × 3 columns</p>\n",
       "</div>"
      ],
      "text/plain": [
       "        timestamp    Actual  Predicted\n",
       "79884  1515373980 -0.002128   0.004899\n",
       "79892  1515374040 -0.000297   0.003765\n",
       "79900  1515374100 -0.001767   0.004179\n",
       "79908  1515374160  0.000042   0.004249\n",
       "79916  1515374220 -0.003806   0.002118\n",
       "...           ...       ...        ...\n",
       "99965  1515525960 -0.003728   0.001902\n",
       "99973  1515526020 -0.003222   0.000009\n",
       "99981  1515526080 -0.003520   0.000306\n",
       "99988  1515526140 -0.003498   0.000269\n",
       "99996  1515526200 -0.002134   0.000673\n",
       "\n",
       "[2538 rows x 3 columns]"
      ]
     },
     "execution_count": 71,
     "metadata": {},
     "output_type": "execute_result"
    }
   ],
   "source": [
    "btc_pred_RF"
   ]
  },
  {
   "cell_type": "code",
   "execution_count": 72,
   "id": "caf13d4e",
   "metadata": {},
   "outputs": [
    {
     "data": {
      "text/plain": [
       "<AxesSubplot:xlabel='timestamp', ylabel='Actual'>"
      ]
     },
     "execution_count": 72,
     "metadata": {},
     "output_type": "execute_result"
    },
    {
     "data": {
      "image/png": "[encoded data removed]",
      "text/plain": [
       "<Figure size 1080x504 with 1 Axes>"
      ]
     },
     "metadata": {
      "needs_background": "light"
     },
     "output_type": "display_data"
    }
   ],
   "source": [
    "plt.figure(figsize=(15, 7))\n",
    "sns.lineplot(data=btc_pred_RF, x=\"timestamp\", y=\"Actual\")\n",
    "sns.lineplot(data=btc_pred_RF, x=\"timestamp\", y=\"Predicted\")"
   ]
  },
  {
   "cell_type": "code",
   "execution_count": null,
   "id": "80b0f718",
   "metadata": {},
   "outputs": [],
   "source": []
  }
 ],
 "metadata": {
  "kernelspec": {
   "display_name": "Python 3 (ipykernel)",
   "language": "python",
   "name": "python3"
  },
  "language_info": {
   "codemirror_mode": {
    "name": "ipython",
    "version": 3
   },
   "file_extension": ".py",
   "mimetype": "text/x-python",
   "name": "python",
   "nbconvert_exporter": "python",
   "pygments_lexer": "ipython3",
   "version": "3.9.7"
  }
 },
 "nbformat": 4,
 "nbformat_minor": 5
}
